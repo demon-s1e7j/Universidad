{
 "cells": [
  {
   "cell_type": "code",
   "execution_count": 2,
   "id": "bd400202",
   "metadata": {},
   "outputs": [],
   "source": [
    "import numpy as np\n",
    "import matplotlib.pyplot as plt"
   ]
  },
  {
   "cell_type": "code",
   "execution_count": 15,
   "id": "9894926e",
   "metadata": {},
   "outputs": [],
   "source": [
    "mp = 938*10**6\n",
    "c = 3*10**17\n",
    "h = 4.13*10**(-15)\n",
    "theta = 170*np.pi/180"
   ]
  },
  {
   "cell_type": "code",
   "execution_count": 16,
   "id": "96ddec26",
   "metadata": {},
   "outputs": [
    {
     "data": {
      "text/plain": [
       "0.0006554309184387329"
      ]
     },
     "execution_count": 16,
     "metadata": {},
     "output_type": "execute_result"
    }
   ],
   "source": [
    "((h*(1-np.cos(theta)))/mp*c)/0.004"
   ]
  },
  {
   "cell_type": "code",
   "execution_count": null,
   "id": "bde378d1",
   "metadata": {},
   "outputs": [],
   "source": []
  }
 ],
 "metadata": {
  "kernelspec": {
   "display_name": "Python 3 (ipykernel)",
   "language": "python",
   "name": "python3"
  },
  "language_info": {
   "codemirror_mode": {
    "name": "ipython",
    "version": 3
   },
   "file_extension": ".py",
   "mimetype": "text/x-python",
   "name": "python",
   "nbconvert_exporter": "python",
   "pygments_lexer": "ipython3",
   "version": "3.11.2"
  }
 },
 "nbformat": 4,
 "nbformat_minor": 5
}
