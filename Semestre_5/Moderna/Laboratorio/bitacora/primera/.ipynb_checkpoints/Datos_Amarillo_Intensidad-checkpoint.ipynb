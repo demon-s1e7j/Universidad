{
 "cells": [
  {
   "cell_type": "code",
   "execution_count": 12,
   "id": "9d4c4658",
   "metadata": {},
   "outputs": [],
   "source": [
    "import numpy as np\n",
    "import pandas as pd\n",
    "import matplotlib.pyplot as plt\n",
    "from matplotlib import style\n",
    "import seaborn as sb\n",
    "from scipy.stats import pearsonr\n",
    "from sklearn.linear_model import LinearRegression\n",
    "from sklearn.model_selection import train_test_split\n",
    "from sklearn.metrics import r2_score\n",
    "from sklearn.metrics import mean_squared_error\n",
    "import statsmodels.api as sm\n",
    "import statsmodels.formula.api as smf"
   ]
  },
  {
   "cell_type": "code",
   "execution_count": 13,
   "id": "a4a1e63f",
   "metadata": {},
   "outputs": [],
   "source": [
    "Datos = pd.read_csv('Datos_Exp1.csv')\n",
    "Amarillo = Datos[Datos['Color'] == 'Amarillo']"
   ]
  },
  {
   "cell_type": "code",
   "execution_count": 14,
   "id": "c19e1018",
   "metadata": {},
   "outputs": [
    {
     "name": "stdout",
     "output_type": "stream",
     "text": [
      "Coeficiente de correlación de Pearson:  -0.9629365424872294\n",
      "P-value:  5.175613515072535e-07\n"
     ]
    }
   ],
   "source": [
    "corr_test = pearsonr(x = Amarillo['Corriente'], y =  Amarillo['Voltaje'])\n",
    "print(\"Coeficiente de correlación de Pearson: \", corr_test[0])\n",
    "print(\"P-value: \", corr_test[1])"
   ]
  },
  {
   "cell_type": "code",
   "execution_count": 15,
   "id": "0656497e",
   "metadata": {},
   "outputs": [
    {
     "data": {
      "text/html": [
       "<style>#sk-container-id-2 {color: black;background-color: white;}#sk-container-id-2 pre{padding: 0;}#sk-container-id-2 div.sk-toggleable {background-color: white;}#sk-container-id-2 label.sk-toggleable__label {cursor: pointer;display: block;width: 100%;margin-bottom: 0;padding: 0.3em;box-sizing: border-box;text-align: center;}#sk-container-id-2 label.sk-toggleable__label-arrow:before {content: \"▸\";float: left;margin-right: 0.25em;color: #696969;}#sk-container-id-2 label.sk-toggleable__label-arrow:hover:before {color: black;}#sk-container-id-2 div.sk-estimator:hover label.sk-toggleable__label-arrow:before {color: black;}#sk-container-id-2 div.sk-toggleable__content {max-height: 0;max-width: 0;overflow: hidden;text-align: left;background-color: #f0f8ff;}#sk-container-id-2 div.sk-toggleable__content pre {margin: 0.2em;color: black;border-radius: 0.25em;background-color: #f0f8ff;}#sk-container-id-2 input.sk-toggleable__control:checked~div.sk-toggleable__content {max-height: 200px;max-width: 100%;overflow: auto;}#sk-container-id-2 input.sk-toggleable__control:checked~label.sk-toggleable__label-arrow:before {content: \"▾\";}#sk-container-id-2 div.sk-estimator input.sk-toggleable__control:checked~label.sk-toggleable__label {background-color: #d4ebff;}#sk-container-id-2 div.sk-label input.sk-toggleable__control:checked~label.sk-toggleable__label {background-color: #d4ebff;}#sk-container-id-2 input.sk-hidden--visually {border: 0;clip: rect(1px 1px 1px 1px);clip: rect(1px, 1px, 1px, 1px);height: 1px;margin: -1px;overflow: hidden;padding: 0;position: absolute;width: 1px;}#sk-container-id-2 div.sk-estimator {font-family: monospace;background-color: #f0f8ff;border: 1px dotted black;border-radius: 0.25em;box-sizing: border-box;margin-bottom: 0.5em;}#sk-container-id-2 div.sk-estimator:hover {background-color: #d4ebff;}#sk-container-id-2 div.sk-parallel-item::after {content: \"\";width: 100%;border-bottom: 1px solid gray;flex-grow: 1;}#sk-container-id-2 div.sk-label:hover label.sk-toggleable__label {background-color: #d4ebff;}#sk-container-id-2 div.sk-serial::before {content: \"\";position: absolute;border-left: 1px solid gray;box-sizing: border-box;top: 0;bottom: 0;left: 50%;z-index: 0;}#sk-container-id-2 div.sk-serial {display: flex;flex-direction: column;align-items: center;background-color: white;padding-right: 0.2em;padding-left: 0.2em;position: relative;}#sk-container-id-2 div.sk-item {position: relative;z-index: 1;}#sk-container-id-2 div.sk-parallel {display: flex;align-items: stretch;justify-content: center;background-color: white;position: relative;}#sk-container-id-2 div.sk-item::before, #sk-container-id-2 div.sk-parallel-item::before {content: \"\";position: absolute;border-left: 1px solid gray;box-sizing: border-box;top: 0;bottom: 0;left: 50%;z-index: -1;}#sk-container-id-2 div.sk-parallel-item {display: flex;flex-direction: column;z-index: 1;position: relative;background-color: white;}#sk-container-id-2 div.sk-parallel-item:first-child::after {align-self: flex-end;width: 50%;}#sk-container-id-2 div.sk-parallel-item:last-child::after {align-self: flex-start;width: 50%;}#sk-container-id-2 div.sk-parallel-item:only-child::after {width: 0;}#sk-container-id-2 div.sk-dashed-wrapped {border: 1px dashed gray;margin: 0 0.4em 0.5em 0.4em;box-sizing: border-box;padding-bottom: 0.4em;background-color: white;}#sk-container-id-2 div.sk-label label {font-family: monospace;font-weight: bold;display: inline-block;line-height: 1.2em;}#sk-container-id-2 div.sk-label-container {text-align: center;}#sk-container-id-2 div.sk-container {/* jupyter's `normalize.less` sets `[hidden] { display: none; }` but bootstrap.min.css set `[hidden] { display: none !important; }` so we also need the `!important` here to be able to override the default hidden behavior on the sphinx rendered scikit-learn.org. See: https://github.com/scikit-learn/scikit-learn/issues/21755 */display: inline-block !important;position: relative;}#sk-container-id-2 div.sk-text-repr-fallback {display: none;}</style><div id=\"sk-container-id-2\" class=\"sk-top-container\"><div class=\"sk-text-repr-fallback\"><pre>LinearRegression()</pre><b>In a Jupyter environment, please rerun this cell to show the HTML representation or trust the notebook. <br />On GitHub, the HTML representation is unable to render, please try loading this page with nbviewer.org.</b></div><div class=\"sk-container\" hidden><div class=\"sk-item\"><div class=\"sk-estimator sk-toggleable\"><input class=\"sk-toggleable__control sk-hidden--visually\" id=\"sk-estimator-id-2\" type=\"checkbox\" checked><label for=\"sk-estimator-id-2\" class=\"sk-toggleable__label sk-toggleable__label-arrow\">LinearRegression</label><div class=\"sk-toggleable__content\"><pre>LinearRegression()</pre></div></div></div></div></div>"
      ],
      "text/plain": [
       "LinearRegression()"
      ]
     },
     "execution_count": 15,
     "metadata": {},
     "output_type": "execute_result"
    }
   ],
   "source": [
    "# División de los datos en train y test\n",
    "# ==============================================================================\n",
    "X = Amarillo[['Corriente']]\n",
    "y = Amarillo['Voltaje']\n",
    "\n",
    "X_train, X_test, y_train, y_test = train_test_split(\n",
    "                                        X.values.reshape(-1,1),\n",
    "                                        y.values.reshape(-1,1),\n",
    "                                        train_size   = 0.8,\n",
    "                                        random_state = 1234,\n",
    "                                        shuffle      = True\n",
    "                                    )\n",
    "\n",
    "# Creación del modelo\n",
    "# ==============================================================================\n",
    "modelo = LinearRegression()\n",
    "modelo.fit(X = X_train.reshape(-1, 1), y = y_train)"
   ]
  },
  {
   "cell_type": "code",
   "execution_count": 16,
   "id": "052aa31e",
   "metadata": {},
   "outputs": [
    {
     "name": "stdout",
     "output_type": "stream",
     "text": [
      "Intercept: [1.73333333]\n",
      "Coeficiente: [('Corriente', -0.27435897435897433)]\n",
      "Coeficiente de determinación R^2: 0.9004212887191609\n"
     ]
    },
    {
     "name": "stderr",
     "output_type": "stream",
     "text": [
      "/home/checho/.local/lib/python3.11/site-packages/sklearn/base.py:413: UserWarning: X has feature names, but LinearRegression was fitted without feature names\n",
      "  warnings.warn(\n"
     ]
    }
   ],
   "source": [
    "# Información del modelo\n",
    "# ==============================================================================\n",
    "print(\"Intercept:\", modelo.intercept_)\n",
    "print(\"Coeficiente:\", list(zip(X.columns, modelo.coef_.flatten(), )))\n",
    "print(\"Coeficiente de determinación R^2:\", modelo.score(X, y))"
   ]
  },
  {
   "cell_type": "code",
   "execution_count": 17,
   "id": "386204b2",
   "metadata": {},
   "outputs": [
    {
     "name": "stdout",
     "output_type": "stream",
     "text": [
      "[[0.91025641]\n",
      " [1.0474359 ]\n",
      " [1.45897436]]\n",
      "\n",
      "El error (rmse) de test es: 0.32459705461271204\n"
     ]
    }
   ],
   "source": [
    "# Error de test del modelo \n",
    "# ==============================================================================\n",
    "predicciones = modelo.predict(X = X_test)\n",
    "print(predicciones[0:3,])\n",
    "\n",
    "rmse = mean_squared_error(\n",
    "        y_true  = y_test,\n",
    "        y_pred  = predicciones,\n",
    "        squared = False\n",
    "       )\n",
    "print(\"\")\n",
    "print(f\"El error (rmse) de test es: {rmse}\")"
   ]
  },
  {
   "cell_type": "code",
   "execution_count": 18,
   "id": "b993d67c",
   "metadata": {},
   "outputs": [
    {
     "name": "stdout",
     "output_type": "stream",
     "text": [
      "                            OLS Regression Results                            \n",
      "==============================================================================\n",
      "Dep. Variable:                      y   R-squared:                       0.949\n",
      "Model:                            OLS   Adj. R-squared:                  0.942\n",
      "Method:                 Least Squares   F-statistic:                     130.3\n",
      "Date:                Mon, 06 Feb 2023   Prob (F-statistic):           8.88e-06\n",
      "Time:                        18:40:56   Log-Likelihood:                 7.2536\n",
      "No. Observations:                   9   AIC:                            -10.51\n",
      "Df Residuals:                       7   BIC:                            -10.11\n",
      "Df Model:                           1                                         \n",
      "Covariance Type:            nonrobust                                         \n",
      "==============================================================================\n",
      "                 coef    std err          t      P>|t|      [0.025      0.975]\n",
      "------------------------------------------------------------------------------\n",
      "const          1.7333      0.112     15.494      0.000       1.469       1.998\n",
      "x1            -0.2744      0.024    -11.416      0.000      -0.331      -0.218\n",
      "==============================================================================\n",
      "Omnibus:                        1.508   Durbin-Watson:                   1.646\n",
      "Prob(Omnibus):                  0.470   Jarque-Bera (JB):                0.998\n",
      "Skew:                           0.714   Prob(JB):                        0.607\n",
      "Kurtosis:                       2.211   Cond. No.                         13.3\n",
      "==============================================================================\n",
      "\n",
      "Notes:\n",
      "[1] Standard Errors assume that the covariance matrix of the errors is correctly specified.\n"
     ]
    },
    {
     "name": "stderr",
     "output_type": "stream",
     "text": [
      "/home/checho/.local/lib/python3.11/site-packages/scipy/stats/_stats_py.py:1736: UserWarning: kurtosistest only valid for n>=20 ... continuing anyway, n=9\n",
      "  warnings.warn(\"kurtosistest only valid for n>=20 ... continuing \"\n"
     ]
    }
   ],
   "source": [
    "# Creación del modelo utilizando matrices como en scikitlearn\n",
    "# ==============================================================================\n",
    "# A la matriz de predictores se le tiene que añadir una columna de 1s para el intercept del modelo\n",
    "X_train = sm.add_constant(X_train, prepend=True)\n",
    "modelo = sm.OLS(endog=y_train, exog=X_train,)\n",
    "modelo = modelo.fit()\n",
    "print(modelo.summary())\n"
   ]
  },
  {
   "cell_type": "code",
   "execution_count": 19,
   "id": "3d374fa8",
   "metadata": {},
   "outputs": [
    {
     "data": {
      "text/plain": [
       "array([[ 1.46879895,  1.99786771],\n",
       "       [-0.33119008, -0.21752787]])"
      ]
     },
     "execution_count": 19,
     "metadata": {},
     "output_type": "execute_result"
    }
   ],
   "source": [
    "# Intervalos de confianza para los coeficientes del modelo\n",
    "# ==============================================================================\n",
    "modelo.conf_int(alpha=0.05)"
   ]
  },
  {
   "cell_type": "code",
   "execution_count": 20,
   "id": "6239afc3",
   "metadata": {},
   "outputs": [
    {
     "data": {
      "image/png": "[encoded data removed]",
      "text/plain": [
       "<Figure size 600x384 with 1 Axes>"
      ]
     },
     "metadata": {},
     "output_type": "display_data"
    }
   ],
   "source": [
    "# Predicciones con intervalo de confianza del 95%\n",
    "# ==============================================================================\n",
    "predicciones = modelo.get_prediction(exog = X_train).summary_frame(alpha=0.05)\n",
    "predicciones['x'] = X_train[:, 1]\n",
    "predicciones['y'] = y_train\n",
    "predicciones = predicciones.sort_values('x')\n",
    "\n",
    "# Gráfico del modelo\n",
    "# ==============================================================================\n",
    "fig, ax = plt.subplots(figsize=(6, 3.84))\n",
    "\n",
    "ax.scatter(predicciones['x'], predicciones['y'], marker='o', color = \"gray\")\n",
    "ax.plot(predicciones['x'], predicciones[\"mean\"], linestyle='-', label=\"OLS\")\n",
    "ax.plot(predicciones['x'], predicciones[\"mean_ci_lower\"], linestyle='--', color='red', label=\"95% CI\")\n",
    "ax.plot(predicciones['x'], predicciones[\"mean_ci_upper\"], linestyle='--', color='red')\n",
    "ax.fill_between(predicciones['x'], predicciones[\"mean_ci_lower\"], predicciones[\"mean_ci_upper\"], alpha=0.1)\n",
    "ax.legend();"
   ]
  },
  {
   "cell_type": "code",
   "execution_count": 23,
   "id": "5f642a53",
   "metadata": {},
   "outputs": [
    {
     "data": {
      "text/plain": [
       "(array([-0.31823561,  1.95664336]),\n",
       " array([[ 0.00079461, -0.0030129 ],\n",
       "        [-0.0030129 ,  0.01398846]]))"
      ]
     },
     "execution_count": 23,
     "metadata": {},
     "output_type": "execute_result"
    }
   ],
   "source": [
    "X = Amarillo['Corriente'].to_numpy()\n",
    "Y = Amarillo['Voltaje'].to_numpy()\n",
    "np.polyfit(X,Y,deg=1,cov=True,full=False)"
   ]
  },
  {
   "cell_type": "code",
   "execution_count": null,
   "id": "096a8b12",
   "metadata": {},
   "outputs": [],
   "source": []
  },
  {
   "cell_type": "code",
   "execution_count": null,
   "id": "05d35ab9",
   "metadata": {},
   "outputs": [],
   "source": []
  }
 ],
 "metadata": {
  "kernelspec": {
   "display_name": "Python 3 (ipykernel)",
   "language": "python",
   "name": "python3"
  },
  "language_info": {
   "codemirror_mode": {
    "name": "ipython",
    "version": 3
   },
   "file_extension": ".py",
   "mimetype": "text/x-python",
   "name": "python",
   "nbconvert_exporter": "python",
   "pygments_lexer": "ipython3",
   "version": "3.11.1"
  }
 },
 "nbformat": 4,
 "nbformat_minor": 5
}
