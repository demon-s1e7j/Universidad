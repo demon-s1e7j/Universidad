{
 "cells": [
  {
   "cell_type": "code",
   "execution_count": 3,
   "metadata": {
    "id": "mKSCI7kePRMp"
   },
   "outputs": [],
   "source": [
    "import numpy as np\n",
    "import matplotlib.pyplot as plt\n",
    "from scipy.stats import beta"
   ]
  },
  {
   "cell_type": "code",
   "execution_count": 4,
   "metadata": {
    "colab": {
     "base_uri": "https://localhost:8080/"
    },
    "id": "uz8XfFShPVs4",
    "outputId": "f44ef34a-5153-40a0-da2b-a165f85ea207"
   },
   "outputs": [
    {
     "name": "stdout",
     "output_type": "stream",
     "text": [
      "frecuencias del sistema [0.4787139 0.25      0.       ]\n",
      "Valores y vectores propios:\n",
      "0.229 [ 0.331 -0.883  0.331]\n",
      "0.063 [ 0.707  0.    -0.707]\n",
      "0.0 [0.577 0.577 0.577]\n",
      "mustra de que los vectores y valores si son propios\n",
      "[ 0.076 -0.202  0.076]\n"
     ]
    },
    {
     "data": {
      "text/plain": [
       "array([ 0.0758, -0.2022,  0.0758])"
      ]
     },
     "execution_count": 4,
     "metadata": {},
     "output_type": "execute_result"
    }
   ],
   "source": [
    "K_1 = 1\n",
    "K_2 = 1\n",
    "\n",
    "\n",
    "M_1 = 16\n",
    "M_2 = 12\n",
    "M_3 = 16\n",
    "\n",
    "M = np.array([[M_1,0,0],[0,M_2,0],[0,0,M_3]])\n",
    "K = np.array([[K_1,-K_1,0],[-K_1,K_1+K_2,-K_2],[0,-K_2,K_2]])\n",
    "M_inv = np.linalg.inv(M)\n",
    "\n",
    "D = M_inv@K\n",
    "W = np.linalg.eigvals(D)\n",
    "\n",
    "\n",
    "#print(D[0,0])\n",
    "#print(D[1,1])\n",
    "#D[2,2]\n",
    "#S = np.array([[3,1],[1,1]])\n",
    "#np.linalg.eigvals(S)\n",
    "\n",
    "W_inicial = np.round(np.linalg.eigvals(D),6)\n",
    "W_R = np.sqrt(W_inicial)\n",
    "#print(W_R[0]/W_R[1])\n",
    "print(\"frecuencias del sistema\",W_R)\n",
    "\n",
    "#PRUEBA = np.array([[1/16,-1/16,0],[-1/12,1/6,-1/12],[0,-1/16,1/16]])\n",
    "valores, vectores = np.linalg.eig(D)\n",
    "valores = np.round(valores,3)\n",
    "vectores =  np.round(vectores,3)\n",
    "\n",
    "print(\"Valores y vectores propios:\")\n",
    "print(valores[0], vectores[:,0])\n",
    "print(valores[1], vectores[:,1])\n",
    "print(valores[2], vectores[:,2])\n",
    "#estos son vectores normalizados\n",
    "vectores\n",
    "#el auto vector esta al reves\n",
    "\n",
    "print(\"mustra de que los vectores y valores si son propios\")\n",
    "n_chequeo = 0\n",
    "print(np.round(D@vectores[:,n_chequeo],3))\n",
    "np.round(vectores[:,n_chequeo]*valores[n_chequeo],4)"
   ]
  }
 ],
 "metadata": {
  "colab": {
   "provenance": []
  },
  "kernelspec": {
   "display_name": "Python 3 (ipykernel)",
   "language": "python",
   "name": "python3"
  },
  "language_info": {
   "codemirror_mode": {
    "name": "ipython",
    "version": 3
   },
   "file_extension": ".py",
   "mimetype": "text/x-python",
   "name": "python",
   "nbconvert_exporter": "python",
   "pygments_lexer": "ipython3",
   "version": "3.10.10"
  }
 },
 "nbformat": 4,
 "nbformat_minor": 1
}
