{
 "cells": [
  {
   "cell_type": "markdown",
   "id": "977204be",
   "metadata": {},
   "source": [
    "# Librerias\n",
    "---\n",
    "Vamos a utilizar:\n",
    "1. Numpy: Esta tendra como propocito los vectores y realizar el algebra. Su diminutivo sera **np**\n",
    "2. Matplotlib.pyplot: Esta tendra como propocito graficar los vectores. Su diminutivo sera **plt**"
   ]
  },
  {
   "cell_type": "code",
   "execution_count": 1,
   "id": "7f22299a",
   "metadata": {},
   "outputs": [],
   "source": [
    "import numpy as np\n",
    "import matplotlib.pyplot as plt"
   ]
  },
  {
   "cell_type": "markdown",
   "id": "ab901515",
   "metadata": {},
   "source": [
    "# Variables\n",
    "---\n",
    "Las variables que va a dar el usuario son:\n",
    "1. C: Tamaño de las matricez (Todas las matrices seran CxC) (usuario)\n",
    "3. coefi: Patron dado (usuario)\n",
    "4. tK: tipo de K\n",
    "5. K: Constante elastica de los resortes (usuario)\n",
    "\n",
    "Las variales que adquirira el sistema:\n",
    "1. M: es la matriz de masas\n",
    "2. V: Numero de masas que hay en el patron. Corresponde a len(coefi)\n",
    "3. Matriz_K: Matriz de las constantes elasticas"
   ]
  },
  {
   "cell_type": "code",
   "execution_count": null,
   "id": "ea38953d",
   "metadata": {},
   "outputs": [
    {
     "name": "stdout",
     "output_type": "stream",
     "text": [
      "Ingrese el tamaño de la matriz: 100\n",
      "Ingrese el patron separado por comas: 2\n",
      "Ingrese el caso en el que estamos: 1\n"
     ]
    }
   ],
   "source": [
    "C = int(input(\"Ingrese el tamaño de la matriz: \"))\n",
    "coefi = input(\"Ingrese el patron separado por comas: \").split(\",\")\n",
    "for i in range(len(coefi)):\n",
    "    coefi[i] = float(coefi[i])\n",
    "# En el peor de los casos descomenta la siguiente linea y pon coefi tu mismo\n",
    "#coefi=[np.pi]\n",
    "V = len(coefi)\n",
    "print(\"1) Extremos restringidos \\t 2) Extremos libres\")\n",
    "print(\"3) Extremo izquierdo libre \\t 4) Extremo derecho libre\")\n",
    "tK = int(input(\"Ingrese el caso en el que estamos: \"))\n",
    "K = float(input(\"Ingrese la constante elastica: \"))"
   ]
  },
  {
   "cell_type": "markdown",
   "id": "ba12d297",
   "metadata": {},
   "source": [
    "# Creación de la matriz M\n",
    "---\n",
    "Lo que nos interesa es crear una matriz diagonal de masas para esto seguiremos este algoritmo:\n",
    "\n",
    "1. Se crea una matriz identidad de tamaño CxC\n",
    "2. Se recorre la matriz y en caso de que estemos en una diagonal (es decir, j==i) colocamos uno de los numeros del patron en orden"
   ]
  },
  {
   "cell_type": "code",
   "execution_count": null,
   "id": "d839075f",
   "metadata": {},
   "outputs": [],
   "source": [
    "M = np.identity(C)\n",
    "contador = 0\n",
    "for i in range(C):\n",
    "    for j in range (C):\n",
    "        if i==j:\n",
    "            if contador >= V:\n",
    "                contador =0\n",
    "            M[i][j] = coefi[contador]\n",
    "    contador += 1\n",
    "print(M)"
   ]
  },
  {
   "cell_type": "markdown",
   "id": "7f0f18f7",
   "metadata": {},
   "source": [
    "# Creación de la Matriz K\n",
    "---\n",
    "Dependiendo del caso que se nos haya dado se construira una de las siguientes matrices:\n",
    "1. La diagonal principal es 2k y las colindantes -k\n",
    "2. La diagonal principal es 2k excepto la primear y la ultima entrada que son k y las colindantes a la diagonal -k\n",
    "3. La diagonal principal es 2k excepto su primera entrada que es k y las colindantes -k\n",
    "4. La diagonal principal es 2k excepto su ultima entrada que es k y las colindantes -k"
   ]
  },
  {
   "cell_type": "code",
   "execution_count": null,
   "id": "a77dda9c",
   "metadata": {},
   "outputs": [],
   "source": [
    "Matriz_k = np.identity(C)\n",
    "for i in range(C):\n",
    "    for j in range (C):\n",
    "        if j==i:\n",
    "            Matriz_k[i][j]=2*K\n",
    "        elif j==i+1:\n",
    "            Matriz_k[i][j]=-K\n",
    "        elif j==i-1:\n",
    "            Matriz_k[i][j]=-K\n",
    "match tK:\n",
    "    case 2:\n",
    "        Matriz_k[0][0] = K\n",
    "        Matriz_k[C-1][C-1] = K\n",
    "    case 3:\n",
    "        Matriz_k[0][0] = K\n",
    "    case 4:\n",
    "        Matriz_k[C-1][C-1] = K\n",
    "    case _:\n",
    "        pass\n",
    "print(Matriz_k)"
   ]
  },
  {
   "cell_type": "markdown",
   "id": "93bc577f",
   "metadata": {},
   "source": [
    "# Invertir Matriz M\n",
    "---\n",
    "Lo unico que hacemos en este caso es invertir la matriz M y lo guardamos en la variable **M_inversa**"
   ]
  },
  {
   "cell_type": "code",
   "execution_count": null,
   "id": "46f8bc06",
   "metadata": {},
   "outputs": [],
   "source": [
    "M_inversa= np.linalg.inv(M)\n",
    "print(M_inversa)"
   ]
  },
  {
   "cell_type": "markdown",
   "id": "e8695b46",
   "metadata": {},
   "source": [
    "# Creación de la Matriz U\n",
    "---\n",
    "En este paso multiplicamos **Matriz_k** con **M_inversa** con el objetivo de crear **U**"
   ]
  },
  {
   "cell_type": "code",
   "execution_count": null,
   "id": "5d93d494",
   "metadata": {},
   "outputs": [],
   "source": [
    "U = M_inversa@Matriz_k\n",
    "print(U)"
   ]
  },
  {
   "cell_type": "markdown",
   "id": "230162f7",
   "metadata": {},
   "source": [
    "# Conseguimos los Valores propios y los Vectores propios\n",
    "---\n",
    "En este paso conseguimos de **U** sus valores y vectores propios"
   ]
  },
  {
   "cell_type": "code",
   "execution_count": null,
   "id": "b979abc7",
   "metadata": {},
   "outputs": [],
   "source": [
    "valores, vectores = np.linalg.eig(U)\n",
    "print(vectores)"
   ]
  },
  {
   "cell_type": "markdown",
   "id": "c2459e0e",
   "metadata": {},
   "source": [
    "# Creamos una lista sorteada de valores propios\n",
    "---\n",
    "En este paso se crea una lista sorteada de valores propios con el objetivo de dar orden a los modods normales."
   ]
  },
  {
   "cell_type": "code",
   "execution_count": null,
   "id": "0440118c",
   "metadata": {},
   "outputs": [],
   "source": [
    "vpo = np.sort(valores)\n",
    "print(vpo)"
   ]
  },
  {
   "cell_type": "markdown",
   "id": "38372082",
   "metadata": {},
   "source": [
    "# Interacción con el Usuario\n",
    "---\n",
    "Esta sección tiene como objetivo permitirle al usuario graficar cualquier modo normal que le interese"
   ]
  },
  {
   "cell_type": "code",
   "execution_count": null,
   "id": "72483758",
   "metadata": {},
   "outputs": [],
   "source": [
    "n = 0\n",
    "meta = int(input(\"Ingrese el modo normal que le interesa: \"))\n",
    "while valores[n] != vpo[meta-1]:\n",
    "    n += 1\n",
    "plt.plot(range(1,len(vectores[:,n])+1),vectores[:,n])\n",
    "plt.show()"
   ]
  },
  {
   "cell_type": "markdown",
   "id": "3954d03d",
   "metadata": {},
   "source": [
    "# Comprobación"
   ]
  },
  {
   "cell_type": "code",
   "execution_count": null,
   "id": "3a91a27f",
   "metadata": {},
   "outputs": [],
   "source": [
    "prueba_1 = U@vectores[:,n]\n",
    "prueba_2 = valores[n]*vectores[:,n]\n",
    "for i in range(C):\n",
    "    if np.round(prueba_1[i],5) == np.round(prueba_2[i],5):\n",
    "        print(i,\"Yeii\")"
   ]
  },
  {
   "cell_type": "code",
   "execution_count": null,
   "id": "e583b9de",
   "metadata": {},
   "outputs": [],
   "source": [
    "coefiB = input(\"Ingrese el patron separado por comas: \").split(\",\")\n",
    "for i in range(len(coefiB)):\n",
    "    coefiB[i] = float(coefiB[i])\n",
    "# En el peor de los casos descomenta la siguiente linea y pon coefi tu mismo\n",
    "#coefiB=[1,3]\n",
    "VB = len(coefiB)\n",
    "KB = float(input(\"Ingrese la constante elastica: \"))"
   ]
  },
  {
   "cell_type": "code",
   "execution_count": null,
   "id": "cc295f8f",
   "metadata": {},
   "outputs": [],
   "source": [
    "MB = np.identity(C)\n",
    "contador = 0\n",
    "for i in range(C):\n",
    "    for j in range (C):\n",
    "        if i==j:\n",
    "            if contador >= VB:\n",
    "                contador =0\n",
    "            MB[i][j] = coefiB[contador]\n",
    "    contador += 1\n",
    "print(MB)"
   ]
  },
  {
   "cell_type": "code",
   "execution_count": null,
   "id": "2e929223",
   "metadata": {},
   "outputs": [],
   "source": [
    "Matriz_kB = np.identity(C)\n",
    "for i in range(C):\n",
    "    for j in range (C):\n",
    "        if j==i:\n",
    "            Matriz_kB[i][j]=2*KB\n",
    "        elif j==i+1:\n",
    "            Matriz_kB[i][j]=-KB\n",
    "        elif j==i-1:\n",
    "            Matriz_kB[i][j]=-KB"
   ]
  },
  {
   "cell_type": "code",
   "execution_count": null,
   "id": "aec30f94",
   "metadata": {},
   "outputs": [],
   "source": [
    "x = np.linspace(0,100,100)\n",
    "M_inversaB= np.linalg.inv(MB)\n",
    "UB = M_inversaB@Matriz_kB\n",
    "valoresB, vectoresB = np.linalg.eig(UB)\n",
    "vpoB = np.sort(valoresB)\n",
    "plt.plot(x,vpo/vpoB)\n",
    "plt.show()"
   ]
  }
 ],
 "metadata": {
  "kernelspec": {
   "display_name": "Python 3 (ipykernel)",
   "language": "python",
   "name": "python3"
  },
  "language_info": {
   "codemirror_mode": {
    "name": "ipython",
    "version": 3
   },
   "file_extension": ".py",
   "mimetype": "text/x-python",
   "name": "python",
   "nbconvert_exporter": "python",
   "pygments_lexer": "ipython3",
   "version": "3.10.10"
  }
 },
 "nbformat": 4,
 "nbformat_minor": 5
}
