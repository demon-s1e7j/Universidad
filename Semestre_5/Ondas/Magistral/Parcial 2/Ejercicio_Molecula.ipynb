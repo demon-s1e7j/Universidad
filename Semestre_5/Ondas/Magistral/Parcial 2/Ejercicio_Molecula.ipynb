{
 "cells": [
  {
   "cell_type": "markdown",
   "id": "749e2a75",
   "metadata": {},
   "source": [
    "# Librerias\n",
    "---\n",
    "Vamos a utilizar:\n",
    "1. Numpy: Esta tendra como propocito los vectores y realizar el algebra. Su diminutivo sera **np**\n",
    "2. Matplotlib.pyplot: Esta tendra como propocito graficar los vectores. Su diminutivo sera **plt**"
   ]
  },
  {
   "cell_type": "code",
   "execution_count": 1,
   "id": "cbf1537a",
   "metadata": {},
   "outputs": [],
   "source": [
    "import numpy as np\n",
    "import matplotlib.pyplot as plt"
   ]
  },
  {
   "cell_type": "markdown",
   "id": "3084548e",
   "metadata": {},
   "source": [
    "# Variables\n",
    "---\n",
    "Las variables que da el usuario son:\n",
    "1. K_1 : Primera Constante\n",
    "2. K_2 : Segunda Constante\n",
    "3. M : Lista de Masas"
   ]
  },
  {
   "cell_type": "code",
   "execution_count": 2,
   "id": "f44e5f11",
   "metadata": {},
   "outputs": [
    {
     "name": "stdout",
     "output_type": "stream",
     "text": [
      "Ingrese la constante 1: 1\n",
      "Ingrese la constante 2: 5\n",
      "Ingrese las masas separadas por comas: 1,12,14\n"
     ]
    }
   ],
   "source": [
    "K_1 = float(input(\"Ingrese la constante 1: \"))\n",
    "K_2 = float(input(\"Ingrese la constante 2: \"))\n",
    "M = input(\"Ingrese las masas separadas por comas: \").split(\",\")\n",
    "for i in range(len(M)):\n",
    "    M[i] = float(M[i])\n",
    "\n",
    "M = np.array([[M[0],0,0],[0,M[1],0],[0,0,M[2]]])\n",
    "K = np.array([[K_1,-K_1,0],[-K_1,K_1+K_2,-K_2],[0,-K_2,K_2]])\n",
    "M_inv = np.linalg.inv(M)\n",
    "\n",
    "D = M_inv@K\n",
    "W = np.linalg.eigvals(D)"
   ]
  },
  {
   "cell_type": "code",
   "execution_count": 9,
   "id": "5849ed94",
   "metadata": {},
   "outputs": [
    {
     "name": "stdout",
     "output_type": "stream",
     "text": [
      "[ 1.171  0.686 -0.   ]\n",
      "frecuencias del sistema [ 1.08203373  0.82845941 -0.        ]\n",
      "Valores y vectores propios:\n",
      "1.171 [ 0.983 -0.168  0.074]\n",
      "0.686 [ 0.908  0.285 -0.309]\n",
      "-0.0 [0.577 0.577 0.577]\n",
      "mustra de que los vectores y valores si son propios\n",
      "[ 1.151 -0.197  0.086]\n"
     ]
    },
    {
     "data": {
      "text/plain": [
       "array([ 1.1511, -0.1967,  0.0867])"
      ]
     },
     "execution_count": 9,
     "metadata": {},
     "output_type": "execute_result"
    }
   ],
   "source": [
    "W_inicial = np.round(np.linalg.eigvals(D),6)\n",
    "print(np.round(W_inicial,3))\n",
    "W_R = np.sqrt(W_inicial)\n",
    "print(\"frecuencias del sistema\",W_R)\n",
    "\n",
    "valores, vectores = np.linalg.eig(D)\n",
    "valores = np.round(valores,3)\n",
    "vectores =  np.round(vectores,3)\n",
    "\n",
    "print(\"Valores y vectores propios:\")\n",
    "print(valores[0], vectores[:,0])\n",
    "print(valores[1], vectores[:,1])\n",
    "print(valores[2], vectores[:,2])\n",
    "\n",
    "print(\"mustra de que los vectores y valores si son propios\")\n",
    "n_chequeo = 0\n",
    "print(np.round(D@vectores[:,n_chequeo],3))\n",
    "np.round(vectores[:,n_chequeo]*valores[n_chequeo],4)"
   ]
  },
  {
   "cell_type": "code",
   "execution_count": 10,
   "id": "b2318cfe",
   "metadata": {},
   "outputs": [
    {
     "data": {
      "text/plain": [
       "1.306079351050747"
      ]
     },
     "execution_count": 10,
     "metadata": {},
     "output_type": "execute_result"
    }
   ],
   "source": [
    "W_R[0]/W_R[1]"
   ]
  }
 ],
 "metadata": {
  "kernelspec": {
   "display_name": "Python 3 (ipykernel)",
   "language": "python",
   "name": "python3"
  },
  "language_info": {
   "codemirror_mode": {
    "name": "ipython",
    "version": 3
   },
   "file_extension": ".py",
   "mimetype": "text/x-python",
   "name": "python",
   "nbconvert_exporter": "python",
   "pygments_lexer": "ipython3",
   "version": "3.10.10"
  }
 },
 "nbformat": 4,
 "nbformat_minor": 5
}
