{
 "cells": [
  {
   "cell_type": "code",
   "execution_count": 1,
   "id": "fb5b8727",
   "metadata": {},
   "outputs": [],
   "source": [
    "k=QQ^4"
   ]
  },
  {
   "cell_type": "markdown",
   "id": "99e4474d",
   "metadata": {},
   "source": [
    "# Primer Punto"
   ]
  },
  {
   "cell_type": "markdown",
   "id": "2f487119",
   "metadata": {},
   "source": [
    "## A"
   ]
  },
  {
   "cell_type": "code",
   "execution_count": 2,
   "id": "41466955",
   "metadata": {},
   "outputs": [
    {
     "name": "stdout",
     "output_type": "stream",
     "text": [
      "[1 1 2]\n",
      "[1 2 1]\n",
      "[2 1 1]\n"
     ]
    }
   ],
   "source": [
    "A = matrix([[1,1,2],[1,2,1],[2,1,1]])\n",
    "print(A)"
   ]
  },
  {
   "cell_type": "code",
   "execution_count": 3,
   "id": "9a7650c7",
   "metadata": {},
   "outputs": [
    {
     "name": "stdout",
     "output_type": "stream",
     "text": [
      "x^3 - 4*x^2 - x + 4\n",
      "[4, 1, -1]\n"
     ]
    }
   ],
   "source": [
    "charpoly = A.charpoly()\n",
    "eigenVal = A.eigenvalues()\n",
    "\n",
    "print(charpoly)\n",
    "print(eigenVal)"
   ]
  },
  {
   "cell_type": "code",
   "execution_count": 4,
   "id": "b63d775d",
   "metadata": {},
   "outputs": [
    {
     "name": "stdout",
     "output_type": "stream",
     "text": [
      "[(4, [\n",
      "(1, 1, 1)\n",
      "], 1), (1, [\n",
      "(1, -2, 1)\n",
      "], 1), (-1, [\n",
      "(1, 0, -1)\n",
      "], 1)]\n"
     ]
    }
   ],
   "source": [
    "eigenVec = A.eigenvectors_left()\n",
    "\n",
    "print(eigenVec)"
   ]
  },
  {
   "cell_type": "code",
   "execution_count": 5,
   "id": "8b02bf4c",
   "metadata": {},
   "outputs": [
    {
     "name": "stdout",
     "output_type": "stream",
     "text": [
      "(4, 4, 4)\n"
     ]
    }
   ],
   "source": [
    "In = identity_matrix(3)\n",
    "A_1=A-4*In\n",
    "A_2=A-In\n",
    "A_3=A+1*In\n",
    "\n",
    "print(vector([1,1,1])*A)"
   ]
  },
  {
   "cell_type": "code",
   "execution_count": null,
   "id": "719d5fc6",
   "metadata": {},
   "outputs": [],
   "source": []
  }
 ],
 "metadata": {
  "kernelspec": {
   "display_name": "SageMath 10.0",
   "language": "sage",
   "name": "sagemath"
  },
  "language_info": {
   "codemirror_mode": {
    "name": "ipython",
    "version": 3
   },
   "file_extension": ".py",
   "mimetype": "text/x-python",
   "name": "python",
   "nbconvert_exporter": "python",
   "pygments_lexer": "ipython3",
   "version": "3.11.3"
  }
 },
 "nbformat": 4,
 "nbformat_minor": 5
}
