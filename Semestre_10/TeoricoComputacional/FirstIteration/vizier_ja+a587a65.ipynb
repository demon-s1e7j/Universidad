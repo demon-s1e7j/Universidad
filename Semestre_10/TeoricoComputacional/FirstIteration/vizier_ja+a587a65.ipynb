{
 "cells": [
  {
   "cell_type": "code",
   "execution_count": 1,
   "id": "a6eaeebf",
   "metadata": {},
   "outputs": [],
   "source": [
    "# Access astronomical databases\n",
    "from pyvo import registry  # version >=1.6\n",
    "\n",
    "# Moc and HEALPix tools\n",
    "from mocpy import MOC\n",
    "\n",
    "# Coordinates manipulation\n",
    "from astropy.coordinates import SkyCoord\n",
    "\n",
    "# Sky visualization\n",
    "from ipyaladin import Aladin  # version >=0.4.0\n",
    "\n",
    "# For plots\n",
    "import matplotlib.pyplot as plt\n"
   ]
  },
  {
   "cell_type": "markdown",
   "id": "7ad7861f",
   "metadata": {},
   "source": [
    "# Welcome to VizieR example workflow\n",
    "\n",
    "[![Vizier](https://custom-icon-badges.demolab.com/badge/Vizier-gray.svg?logo=vizier&logoColor=orange&logoWidth=20)](https://vizier.cds.unistra.fr/viz-bin/VizieR \"https://vizier.cds.unistra.fr/viz-bin/VizieR\")\n",
    "\n",
    "**Notes:** \n",
    "\n",
    "It is a generic notebook, highlighting what can be done once you chose a catalog. This workflow is suggested by [CDS](https://cdsweb.unistra.fr/) (Strasbourg Astronomical Data Center, house of [VizieR](https://vizier.cds.unistra.fr/viz-bin/VizieR)).\n",
    "\n",
    "The notebook exploits [pyVO](https://pyvo.readthedocs.io/en/latest/), an advanced library  of The [Virtual Observatory](https://ivoa.net/).\n",
    "\n",
    "[Astroquery](https://astroquery.readthedocs.io/en/latest/vizier/vizier.html) (not used here) is a well-documented, user-friendly alternative.\n",
    "\n",
    "--------------------------------------------------------\n",
    "\n",
    "## 1. Setup\n",
    "\n",
    "This example notebook has the following dependencies: \n",
    "\n",
    "**Required**\n",
    "- pyvo : this library facilitates the access to the Virtual Observatory (VO) resources. VizieR is part of the VO.\n",
    "This notebook needs version >=1.4.1\n",
    "**Optional, for visualization**\n",
    "- ipyaladin : this is the Aladin-lite sky viewer, bundled as a jupyter widget. It allows to plot catalogs and multi-order coverages (MOC)\n",
    "- matplotlib : an other option to see catalog points and MOCs\n",
    "\n",
    "## 2. Metadata exploration with the Virtual Observatory registry\n",
    "\n",
    "This part uses [pyvo](https://pyvo.readthedocs.io/en) to connect to the VO registry."
   ]
  },
  {
   "cell_type": "code",
   "execution_count": 2,
   "id": "95888801",
   "metadata": {},
   "outputs": [],
   "source": [
    "# the catalogue name in VizieR\n",
    "CATALOGUE = \"J/A+A/587/A65\""
   ]
  },
  {
   "cell_type": "markdown",
   "id": "26ad3c69",
   "metadata": {},
   "source": [
    "We first retrieve the catalogue information."
   ]
  },
  {
   "cell_type": "code",
   "execution_count": 3,
   "id": "6db57e6b",
   "metadata": {},
   "outputs": [],
   "source": [
    "# each resource in the VO has an identifier, called ivoid. For vizier catalogs,\n",
    "# the VO ids can be constructed like this:\n",
    "catalogue_ivoid = f\"ivo://CDS.VizieR/{CATALOGUE}\"\n",
    "# the actual query to the registry\n",
    "voresource = registry.search(ivoid=catalogue_ivoid)[0]"
   ]
  },
  {
   "cell_type": "code",
   "execution_count": 18,
   "id": "f3e975e3",
   "metadata": {},
   "outputs": [
    {
     "name": "stdout",
     "output_type": "stream",
     "text": [
      "Visible and near-infrared solar spectra\n",
      "Short Name: J/A+A/587/A65\n",
      "IVOA Identifier: ivo://cds.vizier/j/a+a/587/a65\n",
      "Access modes: tap#aux, web\n",
      "- tap#aux: https://tapvizier.cds.unistra.fr/TAPVizieR/tap\n",
      "- webpage: https://vizier.cds.unistra.fr/viz-bin/VizieR-2?-source=J/A+A/587/A65\n",
      "\n",
      "We present a new solar flux atlas with the aim of understanding wavelength\n",
      "precision and accuracy in solar benchmark data. The atlas covers the\n",
      "wavelength range 405-2300nm and was observed at the Institut fur Astrophysik,\n",
      "Gottingen (IAG), with a Fourier transform spectrograph (FTS). In contrast to\n",
      "other FTS atlases, the entire visible wavelength range was observed\n",
      "simultaneously using only one spectrograph setting. We compare the wavelength\n",
      "solution of the new atlas to the Kitt Peak solar flux atlases and to the HARPS\n",
      "frequency-comb calibrated solar atlas. Comparison reveals systematics in the\n",
      "two Kitt Peak FTS atlases resulting from their wavelength scale construction,\n",
      "and shows consistency between the IAG and the HARPS atlas. We conclude that\n",
      "the IAG atlas is precise and accurate on the order of +/-10m/s in the\n",
      "wavelength range 405-1065nm, while the Kitt Peak atlases show deviations as\n",
      "large as several ten to 100m/s. We determine absolute convective blueshift\n",
      "across the spectrum from the IAG atlas and report slight differences relative\n",
      "to results from the Kitt Peak atlas that we attribute to the differences\n",
      "between wavelength scales. We conclude that benchmark solar data with accurate\n",
      "wavelength solution are crucial to better understand the effect of convection\n",
      "on stellar radial velocity measurements, which is one of the main limitations\n",
      "of Doppler spectroscopy at m/s precision.\n",
      "\n",
      "Waveband Coverage: infrared, optical\n",
      "\n",
      "Source: 2016A&A...587A..65R\n",
      "Authors: Reiners A.,  Mrotzek N.,  Lemke U.,  Hinrichs J.,  Reinsch K.\n",
      "Alternative identifier(s): doi:10.26093/cds/vizier.35870065\n",
      "More info: https://cdsarc.cds.unistra.fr/viz-bin/cat/J/A+A/587/A65\n"
     ]
    }
   ],
   "source": [
    "# We can print metadata information about the catalogue\n",
    "#voresource.describe(verbose=True)\n",
    "voresource.describe(verbose=True)"
   ]
  },
  {
   "cell_type": "markdown",
   "id": "bd2a7ae3",
   "metadata": {},
   "source": [
    "We can also inspect in details the `resource` object and access the attributes not provided by the describe method. See for example, the first author of a resource: "
   ]
  },
  {
   "cell_type": "code",
   "execution_count": 5,
   "id": "f5a53605",
   "metadata": {},
   "outputs": [
    {
     "data": {
      "text/plain": [
       "'Reiners A.'"
      ]
     },
     "execution_count": 5,
     "metadata": {},
     "output_type": "execute_result"
    }
   ],
   "source": [
    "voresource.creators[0]"
   ]
  },
  {
   "cell_type": "markdown",
   "id": "5a457510",
   "metadata": {},
   "source": [
    "## 3. Access the tabular data of this catalog\n",
    "\n",
    "We can have a look at the tables available in the catalogue."
   ]
  },
  {
   "cell_type": "code",
   "execution_count": 6,
   "id": "92ebe10f",
   "metadata": {},
   "outputs": [
    {
     "name": "stdout",
     "output_type": "stream",
     "text": [
      "In this catalogue, we have 3 tables.\n",
      "J/A+A/587/A65/tablea1: Absolute convective blueshift of FeI lines measured from the IAG atlas\n",
      "J/A+A/587/A65/spnir: NIR atlas 1000-2300nm\n",
      "J/A+A/587/A65/spvis: VIS atlas 405-1065nm\n"
     ]
    }
   ],
   "source": [
    "tables = voresource.get_tables()\n",
    "print(f\"In this catalogue, we have {len(tables)} tables.\")\n",
    "for table_name, table in tables.items():\n",
    "    print(f\"{table_name}: {table.description}\")"
   ]
  },
  {
   "cell_type": "code",
   "execution_count": 7,
   "id": "81514878",
   "metadata": {},
   "outputs": [
    {
     "data": {
      "text/plain": [
       "['J/A+A/587/A65/tablea1', 'J/A+A/587/A65/spnir', 'J/A+A/587/A65/spvis']"
      ]
     },
     "execution_count": 7,
     "metadata": {},
     "output_type": "execute_result"
    }
   ],
   "source": [
    "# We can also extract the tables names for later use\n",
    "tables_names = list(tables.keys())\n",
    "tables_names"
   ]
  },
  {
   "cell_type": "markdown",
   "id": "eedac527",
   "metadata": {},
   "source": [
    "The actual data can then be accessed using any of the ``access_modes`` of the voresource."
   ]
  },
  {
   "cell_type": "code",
   "execution_count": 8,
   "id": "32db444e",
   "metadata": {},
   "outputs": [
    {
     "data": {
      "text/plain": [
       "{'tap#aux', 'web'}"
      ]
     },
     "execution_count": 8,
     "metadata": {},
     "output_type": "execute_result"
    }
   ],
   "source": [
    "voresource.access_modes()"
   ]
  },
  {
   "cell_type": "markdown",
   "id": "4a7dd42f",
   "metadata": {},
   "source": [
    "The web access is found by following the ``reference_url``"
   ]
  },
  {
   "cell_type": "code",
   "execution_count": 9,
   "id": "545f9bf8",
   "metadata": {},
   "outputs": [
    {
     "data": {
      "text/plain": [
       "'https://cdsarc.cds.unistra.fr/viz-bin/cat/J/A+A/587/A65'"
      ]
     },
     "execution_count": 9,
     "metadata": {},
     "output_type": "execute_result"
    }
   ],
   "source": [
    "voresource.reference_url"
   ]
  },
  {
   "cell_type": "markdown",
   "id": "abee6ce7",
   "metadata": {},
   "source": [
    "### 3.1 Execute a SQL/ADQL query\n",
    "\n",
    "The ``tap#aux`` in the ``access_mode`` response indicates that we can also do a SQL/ADQL query for these VizieR tables.\n",
    "\n",
    "On the first table of the catalogue, we execute an <a href='https://www.ivoa.net/documents/latest/ADQL.html'>ADQL</a> query."
   ]
  },
  {
   "cell_type": "code",
   "execution_count": 10,
   "id": "3a8b8d60",
   "metadata": {},
   "outputs": [
    {
     "data": {
      "text/plain": [
       "<DALResultsTable length=10>\n",
       "recno  lambda    EW   relDepth  ConvBS\n",
       "         nm    0.1 pm           m / s \n",
       "int32 float64  int16  float64  float64\n",
       "----- -------- ------ -------- -------\n",
       "    1 405.1819     --      0.6  -548.7\n",
       "    2  405.305     79     0.69   -44.4\n",
       "    3  405.344     60     0.62  -625.3\n",
       "    4 405.5322     50     0.52  -472.2\n",
       "    5 405.6181     80     0.74  -597.1\n",
       "    6 405.7491     --     0.43  -401.4\n",
       "    7  405.849     46     0.72  -127.7\n",
       "    8 405.9363    101     0.75  -672.1\n",
       "    9   405.99     74     0.74  -168.6\n",
       "   10  406.086     70     0.68  -322.5"
      ]
     },
     "execution_count": 10,
     "metadata": {},
     "output_type": "execute_result"
    }
   ],
   "source": [
    "# get the first table of the catalogue\n",
    "first_table_name = tables_names[0]\n",
    "\n",
    "# execute a synchronous ADQL query\n",
    "tap_service = voresource.get_service(\"tap\")\n",
    "tap_records = tap_service.search(\n",
    "    f'select TOP 10 * from \"{first_table_name}\"',\n",
    ")\n",
    "tap_records"
   ]
  },
  {
   "cell_type": "code",
   "execution_count": 11,
   "id": "725e26b8-e7cd-4a04-9712-ed2221cae1d4",
   "metadata": {},
   "outputs": [
    {
     "data": {
      "text/plain": [
       "['J/A+A/587/A65/tablea1', 'J/A+A/587/A65/spnir', 'J/A+A/587/A65/spvis']"
      ]
     },
     "execution_count": 11,
     "metadata": {},
     "output_type": "execute_result"
    }
   ],
   "source": [
    "tables_names"
   ]
  }
 ],
 "metadata": {
  "kernelspec": {
   "display_name": "Python 3 (ipykernel)",
   "language": "python",
   "name": "python3"
  },
  "language_info": {
   "codemirror_mode": {
    "name": "ipython",
    "version": 3
   },
   "file_extension": ".py",
   "mimetype": "text/x-python",
   "name": "python",
   "nbconvert_exporter": "python",
   "pygments_lexer": "ipython3",
   "version": "3.12.11"
  }
 },
 "nbformat": 4,
 "nbformat_minor": 5
}
