{
 "cells": [
  {
   "cell_type": "code",
   "execution_count": 1,
   "id": "86597022-4612-4cf1-9aee-3614da7dde11",
   "metadata": {},
   "outputs": [],
   "source": [
    "import numpy as np\n",
    "import matplotlib.pyplot as plt\n",
    "from scipy import integrate\n",
    "import sympy as sym\n",
    "from scipy.integrate import odeint\n",
    "import matplotlib.animation as anim\n",
    "from tqdm import tqdm"
   ]
  },
  {
   "cell_type": "markdown",
   "id": "3e012a2b-3add-4a2f-af1c-b21d1c0d2e04",
   "metadata": {},
   "source": [
    "# Punto C\n",
    "---\n",
    "Lo primero que deberiamos hacer es definir este sistema en ecuaciones polares. Lo que queda:\n",
    "$$\n",
    "x_L(t) = d\\cos(\\omega t);\\ y_L(t) = d\\sin(\\omega t)\n",
    "$$\n",
    "\n",
    "dado que este movimiento depende del tiempo nos queda\n",
    "$$\n",
    "x_N(t)=r(t)\\cos(\\phi(t));\\ y_N = r(t)\\sin(\\phi(t));\\ r(t) = \\sqrt{x(t)^2 + y(t)^2}\n",
    "$$\n",
    "\n",
    "y por ultimo podemos aplicar el teorema del coseno\n",
    "$$\n",
    "\\begin{align*}\n",
    "r_{LT} = \\sqrt{d^2\\cos(\\omega t)^2 + d^2\\sin(\\omega t)^2} = d\\\\\n",
    "r_{NT} = \\sqrt{r(t)^2\\cos(\\phi(t))^2 + r(t)^2\\sin(\\phi(t))^2} = r\\\\\n",
    "r_L^2 = r^2 + d^2 - 2dr(t)\\cos(\\phi - \\omega t)\\\\\n",
    "r_L =\\sqrt{r^2 + d^2 - 2dr(t)\\cos(\\phi - \\omega t)}\n",
    "\\end{align*}\n",
    "$$"
   ]
  },
  {
   "cell_type": "markdown",
   "id": "79394e85-6ca3-4a57-b9a3-3323f8422a56",
   "metadata": {},
   "source": [
    "---\n",
    "# Punto D\n",
    "---\n",
    "Lo primero que debemos hacer es calcular el Lagrangiano que corresponde a la resta de la energia potencial y la cinetica.\n",
    "$$\n",
    "T = \\frac{1}{2}m(\\dot{x}^2 + \\dot{y}^2);\\ U = -G\\frac{mm_T}{r}-G\\frac{mm_L}{r_L}\n",
    "$$\n",
    "Ahora, reescribiendo en coordenadas polares\n",
    "$$\n",
    "L = \\frac{1}{2}m(\\dot{r}^2 + r\\dot{\\phi}^2)- G\\frac{mm_T}{r}-G\\frac{mm_L}{r_L}\n",
    "$$\n",
    "\n",
    "Ahora, debemos calcular los momentos conjugados de ambas variables\n",
    "\n",
    "$$\n",
    "p_r=\\frac{\\partial L}{\\partial \\dot{r}}=\\frac{1}{2}m(2\\dot{r})=m\\dot{r} \\quad \\rightarrow \\quad \\dot{r}=\\frac{p_r}{m}\n",
    "$$\n",
    "$$\n",
    "p_\\phi=\\frac{\\partial L}{\\partial \\dot{\\phi}}=\\frac{1}{2}m(2r^2\\dot{\\phi})=mr^2\\dot{\\phi} \\quad \\rightarrow \\quad \\dot{\\phi}=\\frac{p_\\phi}{mr^2}\n",
    "$$\n",
    "\n",
    "Asi pues solo debemos usar $H=p_r\\dot{r}+p_\\phi \\dot{\\phi}-L$ con lo que queda\n",
    "$$\n",
    "H=\\frac{p_r^2}{2m}+\\frac{p_\\phi^2}{2mr^2}-G\\frac{mm_T}{r}-G\\frac{mm_L}{r_L}\n",
    "$$"
   ]
  },
  {
   "cell_type": "markdown",
   "id": "899704e8-6046-4c07-a060-fa9b03ef19be",
   "metadata": {},
   "source": [
    "---\n",
    "# Punto E\n",
    "---\n",
    "\n",
    "Para mostrar esto debemos hacer las siguientes derivadas parciales\n",
    "$$\\dot{r}=\\frac{\\partial H}{\\partial p_r}=\\frac{2p_r}{2m}=\\frac{p_r}{m}$$\n",
    "$$\\dot{\\phi}=\\frac{\\partial H}{\\partial p_\\phi}=\\frac{2p_\\phi}{mr^2}=\\frac{p_\\phi}{mr^2} $$ \n",
    "\n",
    "Que nos queda\n",
    "$$\n",
    "\\begin{align*}\n",
    "\\dot{p_r}=-\\left(\\frac{-1}{r^3}\\frac{p_\\phi^2}{m} + \\frac{1}{r^2} Gmm_T+ \\frac{Gmm_L }{r_L^2}\\left( \\frac{2r(t)-2d\\cos(\\phi-\\omega t)}{2r_L}\\right) \\right)\\\\\n",
    "=\\frac{p_\\phi^2}{mr^3}-G\\frac{mm_T}{r^2}-G\\frac{mm_L}{r_L^3}[r-d\\cos(\\phi-\\omega t)]\\\\\n",
    "\\dot{p_\\phi}=-\\frac{\\partial H}{\\partial \\phi}=-\\frac{Gmm_L }{r_L^2}\\left( \\frac{2r(t)d\\sin(\\phi-\\omega t)}{2r_L}\\right)=-G\\frac{mm_L}{r_L^3}[rd\\sin(\\phi-\\omega t)]\n",
    "\\end{align*}\n",
    "$$"
   ]
  },
  {
   "cell_type": "markdown",
   "id": "3fafff5a-41ed-4b51-ab9b-d9ec4788f32c",
   "metadata": {},
   "source": [
    "---\n",
    "# Punto F\n",
    "---\n",
    "\n",
    "Ahora, realizamos el cambio de variables y al ponerlo en el  queda:\n",
    "$$\n",
    "\\begin{align*}\n",
    "\\dot{p_r}&= md\\dot{\\tilde{p_r}} \\\\\n",
    "&= \\frac{(md^2\\tilde{p_\\phi})^2}{m(d\\tilde{r})^3}-G\\frac{mm_T}{(d\\tilde{r})^2}-G\\frac{mm_L}{\\tilde{r'}^3}[(\\tilde{r}d)-d\\cos(\\phi-\\omega t)]\\\\\n",
    "&= \\frac{\\tilde{p_\\phi}^2}{\\tilde{r}^3}md-\\frac{Gm_T}{d^2}\\left(\\frac{1}{\\tilde{r}^2}-\\frac{m_L}{m_T}\\frac{1}{\\tilde{r'}^3}[\\tilde{r}-\\cos(\\phi-\\omega t)]\\right)\\\\\n",
    "&= \\frac{\\tilde{p_\\phi}^2}{\\tilde{r}^3}-\\frac{Gm_T}{d^3}\\left(\\frac{1}{\\tilde{r}^2}-\\frac{m_L}{m_T}\\frac{1}{\\tilde{r'}^3}[\\tilde{r}-\\cos(\\phi-\\omega t)]\\right)\\\\\n",
    "&=\\frac{\\tilde{p_\\phi}^2}{\\tilde{r}^3}-\\Delta\\left(\\frac{1}{\\tilde{r}^2}+\\frac{\\mu}{\\tilde{r'}^3}[\\tilde{r}-\\cos(\\phi-\\omega t)] \\right)\\\\\n",
    "\\dot{p_\\phi}&=md^2\\dot{\\tilde{p_\\phi}}\\\\\n",
    "&=-G\\frac{mm_L}{\\tilde{r'}^3}[(\\tilde{r}d)d\\sin(\\phi-\\omega t)] \\\\\n",
    "&=-\\frac{Gmm_T}{d}\\frac{m_L}{m_T}\\frac{d^2}{\\tilde{r'}^3}[\\tilde{r}\\sin(\\phi-\\omega t)]\\\\\n",
    "&=-\\frac{Gm_T}{d^3}\\frac{m_L}{m_T}\\frac{1}{\\tilde{r'}^3}[\\tilde{r}\\sin(\\phi-\\omega t)] \\\\\n",
    "&=-\\frac{\\Delta \\mu \\tilde{r}}{\\tilde{r'}^3}\\sin(\\phi-\\omega t)\n",
    "\\end{align*}\n",
    "$$\n"
   ]
  },
  {
   "cell_type": "markdown",
   "id": "d1e690a6-fffc-4b62-be44-78546f6dbf64",
   "metadata": {},
   "source": [
    "---\n",
    "# Punto G\n",
    "---"
   ]
  },
  {
   "cell_type": "code",
   "execution_count": 2,
   "id": "a9f396e4-1ebe-4fd0-92e1-bbf886e12ca7",
   "metadata": {},
   "outputs": [],
   "source": [
    "G = 6.67*10**(-11)\n",
    "mT = 5.9736*10**(24)\n",
    "rT = 6.3781*10**(6)\n",
    "mL = 0.07349*10**(24)\n",
    "rL = 1.7374*10**(6)\n",
    "d = 3.844*10**(8)\n",
    "w = 2.6617*10**(-6)"
   ]
  },
  {
   "cell_type": "code",
   "execution_count": 3,
   "id": "752b56ef-7442-4ed8-b8d8-9849ab76c631",
   "metadata": {},
   "outputs": [],
   "source": [
    "def System(vr,t,params):\n",
    "\n",
    "    r,phi,pr,pphi = vr\n",
    "    \n",
    "    G,m_T,m_L,d,omega = params\n",
    "    \n",
    "    Delta = (G*m_T)/(d**3)\n",
    "    mu = m_L/m_T\n",
    "    r_ = np.sqrt(1+(r**2) -2*r*np.cos(phi-omega*t))\n",
    "    \n",
    "    drdt = pr\n",
    "    dphidt = pphi/(r**2)\n",
    "    dprdt = (pphi**2)/(r**3)- Delta*((1/(r**2))+(mu/(r_**3))*(r-np.cos(phi-omega*t)))\n",
    "    dpphidt = -((Delta*mu*r)/(r_**3))*np.sin(phi-omega*t)\n",
    "    \n",
    "    return np.array([drdt,dphidt,dprdt,dpphidt])"
   ]
  },
  {
   "cell_type": "code",
   "execution_count": 4,
   "id": "6422215e-840f-4af7-bbd9-200329767a43",
   "metadata": {},
   "outputs": [],
   "source": [
    "r0 = rT\n",
    "phi = np.deg2rad(25)\n",
    "\n",
    "v0 = 11179\n",
    "theta = np.deg2rad(26.225)\n",
    "\n",
    "v0n = v0/d\n",
    "\n",
    "r0n = r0/d\n",
    "pr0n = v0n*np.cos(theta - phi)\n",
    "pphi0n = r0n*v0n*np.sin(theta - phi)\n",
    "\n",
    "\n",
    "\n",
    "x0 = np.array([r0n, phi, pr0n, pphi0n])\n",
    "\n",
    "t0 = 0\n",
    "tmax = float(60*60*24*2.5)\n",
    "h = 1\n",
    "\n",
    "t = np.arange(t0, tmax, h)\n",
    "params = [G,mT,mL,d,w]\n",
    "sol = integrate.odeint(System, x0, t,args=(params,))\n",
    "\n",
    "rs = sol[:,0]\n",
    "phis = sol[:,1]"
   ]
  },
  {
   "cell_type": "code",
   "execution_count": 5,
   "id": "6ca8b6df-8c3f-416c-93bb-f045629c8e5a",
   "metadata": {},
   "outputs": [],
   "source": [
    "def GetEulerSystem4(f,r0,t,params):\n",
    "    \n",
    "    h = t[1] - t[0]\n",
    "    \n",
    "    r = np.zeros_like(t)\n",
    "    phi = np.zeros_like(t)\n",
    "    pr = np.zeros_like(t)\n",
    "    pphi = np.zeros_like(t)\n",
    "    \n",
    "    r[0] = r0[0]\n",
    "    phi[0] = r0[1]\n",
    "    pr[0] = r0[2]\n",
    "    pphi[0] = r0[3]\n",
    "    \n",
    "    K1=np.zeros(4)\n",
    "    K2=np.zeros(4)\n",
    "    K3=np.zeros(4)\n",
    "    K4=np.zeros(4)\n",
    "    R=np.zeros(4)\n",
    "    \n",
    "    for i in tqdm(range(1,len(t))):\n",
    "        R=np.array([r[i-1],phi[i-1],pr[i-1],pphi[i-1]])\n",
    "        K1=f(R,t[i-1],params)\n",
    "        \n",
    "        R=np.array([r[i-1]+0.5*h*K1[0],phi[i-1]+0.5*h*K1[1],pr[i-1]+0.5*h*K1[2],pphi[i-1]+0.5*h*K1[3]])\n",
    "        K2=f(R,t[i-1],params)\n",
    "        \n",
    "        R=np.array([r[i-1]+0.5*h*K2[0],phi[i-1]+0.5*h*K2[1],pr[i-1]+0.5*h*K2[2],pphi[i-1]+0.5*h*K2[3]])\n",
    "        K3=f(R,t[i-1],params)\n",
    "        \n",
    "        R=np.array([r[i-1]+h*K3[0],phi[i-1]+h*K3[1],pr[i-1]+h*K3[2],pphi[i-1]+h*K3[3]])\n",
    "        K4=f(R,t[i-1],params)\n",
    "        \n",
    "        r[i] = r[i-1] + h*(K1[0]+2*K2[0]+2*K3[0]+K4[0])/6\n",
    "        phi[i]=phi[i-1]+h*(K1[1]+2*K2[1]+2*K3[1]+K4[1])/6\n",
    "        pr[i] = pr[i-1] + h*(K1[2]+2*K2[2]+2*K3[2]+K4[2])/6\n",
    "        pphi[i]=pphi[i-1]+h*(K1[3]+2*K2[3]+2*K3[3]+K4[3])/6\n",
    "        \n",
    "    return r,phi,pr,pphi"
   ]
  },
  {
   "cell_type": "code",
   "execution_count": 6,
   "id": "fa4adc2a-6b1e-4f6c-a05d-d456f1fc2e30",
   "metadata": {},
   "outputs": [
    {
     "name": "stderr",
     "output_type": "stream",
     "text": [
      "100%|████████████████████████████████████████████████████████████████| 215999/215999 [00:15<00:00, 14202.77it/s]\n"
     ]
    }
   ],
   "source": [
    "r,phi,pr,pphi = GetEulerSystem4(System,x0,t,params)"
   ]
  },
  {
   "cell_type": "code",
   "execution_count": 7,
   "id": "675788e2-485c-4491-b9a0-9aeb3a973f1f",
   "metadata": {},
   "outputs": [
    {
     "data": {
      "image/png": "[encoded data removed]",
      "text/plain": [
       "<Figure size 1000x500 with 2 Axes>"
      ]
     },
     "metadata": {},
     "output_type": "display_data"
    }
   ],
   "source": [
    "\n",
    "\n",
    "x_L = d*np.cos(w*t)\n",
    "y_L = d*np.sin(w*t)\n",
    "\n",
    "x_Ns = rs*np.cos(phis)*d\n",
    "y_Ns = rs*np.sin(phis)*d\n",
    "\n",
    "x_Nr = r*np.cos(phi)*d\n",
    "y_Nr = r*np.sin(phi)*d\n",
    "\n",
    "scale = 10000\n",
    "t1 = t[::scale]*(1/(3600*24))\n",
    "\n",
    "\n",
    "fig = plt.figure(figsize = (10, 5))\n",
    "ax1 = fig.add_subplot(121)\n",
    "ax2 = fig.add_subplot(122)\n",
    " \n",
    "ax1.scatter(x_Ns,y_Ns,color='k',marker='.')\n",
    "ax1.plot(x_L,y_L,color='gray')\n",
    "ax1.scatter(0,0,color='b')\n",
    "ax1.grid()\n",
    "ax1.set_title('Odeint solution')\n",
    "\n",
    "ax2.scatter(x_Nr,y_Nr,color='k',marker='.')\n",
    "ax2.plot(x_L,y_L,color='gray')\n",
    "ax2.scatter(0,0,color='b')\n",
    "ax2.grid()\n",
    "ax2.set_title('RungeKutta 4 solution')\n",
    "\n",
    "fig.tight_layout()"
   ]
  },
  {
   "cell_type": "code",
   "execution_count": null,
   "id": "c7f93a1f-7e7b-46e1-9ba8-4397cf1bc78d",
   "metadata": {},
   "outputs": [],
   "source": []
  }
 ],
 "metadata": {
  "kernelspec": {
   "display_name": "Python 3 (ipykernel)",
   "language": "python",
   "name": "python3"
  },
  "language_info": {
   "codemirror_mode": {
    "name": "ipython",
    "version": 3
   },
   "file_extension": ".py",
   "mimetype": "text/x-python",
   "name": "python",
   "nbconvert_exporter": "python",
   "pygments_lexer": "ipython3",
   "version": "3.11.7"
  }
 },
 "nbformat": 4,
 "nbformat_minor": 5
}
