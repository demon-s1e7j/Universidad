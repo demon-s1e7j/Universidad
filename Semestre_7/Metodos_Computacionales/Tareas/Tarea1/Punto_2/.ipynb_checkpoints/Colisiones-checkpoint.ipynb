{
 "cells": [
  {
   "cell_type": "code",
   "execution_count": 1,
   "id": "693efd9e",
   "metadata": {},
   "outputs": [],
   "source": [
    "%matplotlib widget\n",
    "import numpy as np\n",
    "import matplotlib.pyplot as plt\n",
    "import matplotlib.animation as anim\n",
    "from tqdm import tqdm"
   ]
  },
  {
   "cell_type": "code",
   "execution_count": 2,
   "id": "4db3fba5",
   "metadata": {},
   "outputs": [],
   "source": [
    "class Particle:\n",
    "    \n",
    "    def __init__(self, r0, v0, a0, t, m=1, radius=2., Id=0):\n",
    "        \n",
    "        self.dt = t[1] - t[0]\n",
    "        \n",
    "        \n",
    "        # Atributos instantaneos\n",
    "        self.r = r0\n",
    "        self.v = v0\n",
    "        self.a = a0\n",
    "        \n",
    "        self.m = m\n",
    "        self.radius = radius\n",
    "        self.Id = Id\n",
    "        \n",
    "        \n",
    "        self.p = self.m*self.v\n",
    "        \n",
    "        self.f = self.m*self.a\n",
    "        \n",
    "        # Historial\n",
    "        \n",
    "        self.R = np.zeros((len(t),len(r0)))\n",
    "        self.V = np.zeros_like(self.R)\n",
    "        self.A = np.zeros_like(self.R)\n",
    "        \n",
    "        self.F = np.zeros_like(self.R)\n",
    "        \n",
    "        self.P = np.zeros_like(self.R)\n",
    "    \n",
    "        # Fisica\n",
    "        self.K = 20.\n",
    "        \n",
    "        self.VEk = np.zeros(len(t))\n",
    "        \n",
    "    def Evolution(self,i):\n",
    "        \n",
    "        \n",
    "        self.SetPosition(i)\n",
    "        self.SetVelocity(i)\n",
    "        \n",
    "        self.a = self.f/self.m\n",
    "        \n",
    "        # Euler\n",
    "  #      self.r += self.dt*self.v\n",
    "  #      self.v += self.dt*self.a\n",
    "        \n",
    "        # Euler-Cromer\n",
    "        self.v += self.dt*self.a\n",
    "        self.r += self.dt*self.v\n",
    "        \n",
    "        \n",
    "    def CalculateForce(self,p):\n",
    "        \n",
    "        d = np.linalg.norm(self.r - p.r)\n",
    "        \n",
    "        compresion = self.radius + p.radius - d\n",
    "        \n",
    "        if compresion >= 0:\n",
    "            \n",
    "            Fn = self.K * compresion**3\n",
    "            \n",
    "            self.n = (self.r - p.r)/d     \n",
    "            self.f = np.add(self.f,Fn*self.n)\n",
    "            # Falta implementar energía potencial \n",
    "            \n",
    "     \n",
    "    # Aca debes agregar la energía potencial\n",
    "    def ResetForce(self):\n",
    "        self.f[:] = 0.\n",
    "        self.a[:] = 0.\n",
    "    \n",
    "    # Setter\n",
    "    def SetPosition(self,i):\n",
    "        self.R[i] = self.r\n",
    "    \n",
    "    def SetVelocity(self,i):\n",
    "        self.V[i] = self.v\n",
    "        self.P[i] = self.m*self.v\n",
    "        self.VEk[i] = 0.5*self.m*np.dot(self.v,self.v)\n",
    "    \n",
    "    # Getter\n",
    "    def GetPosition(self,scale=1):\n",
    "        return self.R[::scale]\n",
    "    \n",
    "    def GetVelocity(self,scale=1):\n",
    "        return self.V[::scale]\n",
    " \n",
    "    def GetMomentum(self,scale=1):\n",
    "        return self.P[::scale]\n",
    "    \n",
    "    def GetKineticEnergy(self,scale=1):\n",
    "        return self.VEk[::scale] \n",
    "    \n",
    "    # Debes agregar las paredes en este punto\n",
    "    def CheckLimits(self):\n",
    "        \n",
    "        for i in range(2):\n",
    "            \n",
    "            if self.r[i] + self.radius > 20 and self.v[i] > 0.:\n",
    "                self.v[i] = -self.v[i]\n",
    "            elif self.r[i] - self.radius < -20 and self.v[i] < 0.:\n",
    "                self.v[i] = -self.v[i]"
   ]
  },
  {
   "cell_type": "code",
   "execution_count": 3,
   "id": "372e6b52",
   "metadata": {},
   "outputs": [],
   "source": [
    "def GetParticles(N,t):\n",
    "    \n",
    "    Particles = []\n",
    "\n",
    "    for i in range(N):\n",
    "        r = np.random.uniform(-20, 20, 2)\n",
    "        v = np.random.uniform(-5, 5, 2)\n",
    "        a = np.array([0.,0.])\n",
    "        p = Particle(r,v,a,t,m=1,radius=2,Id=i)\n",
    "        Particles.append(p)\n",
    "    \n",
    "    # Aca deber agregar una rutina montecarlo para crear particulas\n",
    "    # sobre el plano con velocidades aleatorias.\n",
    "    \n",
    "    return Particles"
   ]
  },
  {
   "cell_type": "code",
   "execution_count": 4,
   "id": "56e67631",
   "metadata": {},
   "outputs": [],
   "source": [
    "dt = 0.001\n",
    "tmax = 5\n",
    "t = np.arange(0,tmax,dt)\n",
    "Particles = GetParticles(10,t)"
   ]
  },
  {
   "cell_type": "code",
   "execution_count": 5,
   "id": "edf88a8c",
   "metadata": {},
   "outputs": [],
   "source": [
    "def RunSimulation(t,Particles):\n",
    "    \n",
    "    for it in tqdm(range(len(t)), desc='Running simulation', unit=' Steps' ):\n",
    "        \n",
    "        for i in range(len(Particles)):\n",
    "            for j in range(len(Particles)):\n",
    "                if i!=j:\n",
    "                    Particles[i].CalculateForce(Particles[j])\n",
    "        \n",
    "        for i in range(len(Particles)):\n",
    "            Particles[i].Evolution(it)\n",
    "            Particles[i].ResetForce()\n",
    "            Particles[i].CheckLimits()\n",
    "            # Aca debes agregar la interaccion con la pared\n",
    "            \n",
    "            \n",
    "    return Particles"
   ]
  },
  {
   "cell_type": "code",
   "execution_count": 6,
   "id": "bcac242d",
   "metadata": {},
   "outputs": [
    {
     "name": "stderr",
     "output_type": "stream",
     "text": [
      "Running simulation: 100%|███████████████████████████████████████████████| 5000/5000 [00:06<00:00, 734.78 Steps/s]\n"
     ]
    }
   ],
   "source": [
    "Particles = RunSimulation(t,Particles)"
   ]
  },
  {
   "cell_type": "code",
   "execution_count": 7,
   "id": "32609fcd",
   "metadata": {},
   "outputs": [],
   "source": [
    "# Bajamos dimensión de la simulacion\n",
    "scale = 100\n",
    "t1 = t[::scale]"
   ]
  },
  {
   "cell_type": "markdown",
   "id": "f86d6dd8-6cf5-4a55-967d-ccdeb8f1a491",
   "metadata": {},
   "source": [
    "# A) Grafique el momento lineal total en x (px) en función del tiempo. Se debería conservar"
   ]
  },
  {
   "cell_type": "code",
   "execution_count": 8,
   "id": "97ba705a",
   "metadata": {},
   "outputs": [
    {
     "data": {
      "application/vnd.jupyter.widget-view+json": {
       "model_id": "63e21573b45a4e44ab23593510d25d55",
       "version_major": 2,
       "version_minor": 0
      },
      "image/png": "[encoded data removed]",
      "text/html": [
       "\n",
       "            <div style=\"display: inline-block;\">\n",
       "                <div class=\"jupyter-widgets widget-label\" style=\"text-align: center;\">\n",
       "                    Figure\n",
       "                </div>\n",
       "                <img src='data:image/png;base64,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' width=1000.0/>\n",
       "            </div>\n",
       "        "
      ],
      "text/plain": [
       "Canvas(toolbar=Toolbar(toolitems=[('Home', 'Reset original view', 'home', 'home'), ('Back', 'Back to previous …"
      ]
     },
     "metadata": {},
     "output_type": "display_data"
    }
   ],
   "source": [
    "fig = plt.figure(figsize=(10,5))\n",
    "ax = fig.add_subplot(121)\n",
    "ax1 = fig.add_subplot(122)\n",
    "\n",
    "def init():\n",
    "    \n",
    "    ax.clear()\n",
    "    ax.set_xlim(-20,20)\n",
    "    ax.set_ylim(-20,20)\n",
    "    \n",
    "def Update(i):\n",
    "    \n",
    "    init()\n",
    "    ax.set_title(r't =  %.3f s' %(t1[i]))\n",
    "    \n",
    "    \n",
    "    # Queremos calcular la energía total de cinética\n",
    "    KE = 0. # Kinetic energy\n",
    "    \n",
    "    for p in Particles:\n",
    "        \n",
    "        x = p.GetPosition(scale)[i,0]\n",
    "        y = p.GetPosition(scale)[i,1]\n",
    "        \n",
    "        vx = p.GetVelocity(scale)[i,0]\n",
    "        vy = p.GetVelocity(scale)[i,1]\n",
    "        \n",
    "        circle = plt.Circle( (x,y), p.radius, color='r', fill=False )\n",
    "        ax.add_patch(circle)\n",
    "        \n",
    "        ax.arrow(x,y,vx,vy,color='k',head_width=0.5,length_includes_head=True)\n",
    "        \n",
    "        KE += p.GetKineticEnergy(scale)[i]\n",
    "        \n",
    "        ax1.set_title(r'Total kinetic Energy: {:.3f}'.format(KE))\n",
    "        ax1.scatter(t1[:i], p.GetKineticEnergy(scale)[:i],color='k',marker='.')\n",
    "        \n",
    "Animation = anim.FuncAnimation(fig,Update,frames=len(t1),init_func=init)"
   ]
  },
  {
   "cell_type": "markdown",
   "id": "46f44cec-1bf7-4047-826e-4fb03b8e1dc5",
   "metadata": {},
   "source": [
    "# B) Grafique el momento lineal total en y (py) en función del tiempo. Se debería conservar"
   ]
  },
  {
   "cell_type": "code",
   "execution_count": 9,
   "id": "1a74d929",
   "metadata": {},
   "outputs": [],
   "source": [
    "MomentumT = Particles[0].GetMomentum(scale)"
   ]
  },
  {
   "cell_type": "code",
   "execution_count": 10,
   "id": "c5812ac9",
   "metadata": {},
   "outputs": [],
   "source": [
    "for i in range(1,len(Particles)):\n",
    "    MomentumT = np.add(MomentumT,Particles[i].GetMomentum(scale))"
   ]
  },
  {
   "cell_type": "code",
   "execution_count": 11,
   "id": "089b50b5",
   "metadata": {},
   "outputs": [
    {
     "data": {
      "text/plain": [
       "<matplotlib.legend.Legend at 0x7fef66c9fbc0>"
      ]
     },
     "execution_count": 11,
     "metadata": {},
     "output_type": "execute_result"
    },
    {
     "data": {
      "application/vnd.jupyter.widget-view+json": {
       "model_id": "5f87d7cd8aaa40a6aa05f0afbad74853",
       "version_major": 2,
       "version_minor": 0
      },
      "image/png": "[encoded data removed]",
      "text/html": [
       "\n",
       "            <div style=\"display: inline-block;\">\n",
       "                <div class=\"jupyter-widgets widget-label\" style=\"text-align: center;\">\n",
       "                    Figure\n",
       "                </div>\n",
       "                <img src='data:image/png;base64,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' width=1000.0/>\n",
       "            </div>\n",
       "        "
      ],
      "text/plain": [
       "Canvas(toolbar=Toolbar(toolitems=[('Home', 'Reset original view', 'home', 'home'), ('Back', 'Back to previous …"
      ]
     },
     "metadata": {},
     "output_type": "display_data"
    }
   ],
   "source": [
    "fig3 = plt.figure(figsize=(10,5))\n",
    "ax3 = fig3.add_subplot(221)\n",
    "ax3.plot(t1,MomentumT[:,0],label='px')\n",
    "ax3.plot(t1,MomentumT[:,1],label='py')\n",
    "ax3.legend()"
   ]
  },
  {
   "cell_type": "markdown",
   "id": "f89fcd50-cd35-46cc-8be4-7f920cc0ff21",
   "metadata": {},
   "source": [
    "# C) Teóricamente muestre que la fuerza de contacto es conservativa. Encuentre la energía potencial.\n",
    "En este caso partimos de la ecuación para la fuerza de contacto entre dos esferas $$\n",
    "\\begin{align*}\n",
    "\\vec{ f }(\\vec{r}_1,\\vec{r}_2) = K[R1 + R2 - |\\vec{r}_1-\\vec{r}_2|]^3\\hat{n}\n",
    "\\end{align*}\n",
    "$$"
   ]
  }
 ],
 "metadata": {
  "kernelspec": {
   "display_name": "Python 3 (ipykernel)",
   "language": "python",
   "name": "python3"
  },
  "language_info": {
   "codemirror_mode": {
    "name": "ipython",
    "version": 3
   },
   "file_extension": ".py",
   "mimetype": "text/x-python",
   "name": "python",
   "nbconvert_exporter": "python",
   "pygments_lexer": "ipython3",
   "version": "3.12.1"
  }
 },
 "nbformat": 4,
 "nbformat_minor": 5
}
