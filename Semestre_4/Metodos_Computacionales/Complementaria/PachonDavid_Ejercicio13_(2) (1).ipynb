{
  "cells": [
    {
      "cell_type": "markdown",
      "source": [
        "## Librerias"
      ],
      "metadata": {
        "id": "Ca47pvrzRXMy"
      },
      "id": "Ca47pvrzRXMy"
    },
    {
      "cell_type": "code",
      "execution_count": 32,
      "id": "6f64d18c-e6fe-4328-a15d-9344842eabd1",
      "metadata": {
        "id": "6f64d18c-e6fe-4328-a15d-9344842eabd1"
      },
      "outputs": [],
      "source": [
        "import numpy as np\n",
        "import matplotlib.pyplot as plt\n",
        "from scipy.stats import norm, multivariate_normal"
      ]
    },
    {
      "cell_type": "markdown",
      "source": [
        "## Problema 1\n",
        "\n",
        "Considere las dos caracteristicas \"Alcohol level\" y \"Alcalinity level\" del conjunto de datos [wine_data](https://scikit-learn.org/stable/modules/generated/sklearn.datasets.load_wine.html). "
      ],
      "metadata": {
        "id": "RQcF9p3vavGU"
      },
      "id": "RQcF9p3vavGU"
    },
    {
      "cell_type": "code",
      "source": [
        "# load data\n",
        "from sklearn.datasets import load_wine\n",
        "import scipy.stats\n",
        "\n",
        "alcohol_levels = load_wine()['data'][:, [0]].ravel()\n",
        "alcalinity_levels = load_wine()['data'][:, [3]].ravel()\n",
        "\n",
        "alcohol_levels.shape, alcalinity_levels.shape\n",
        "\n",
        "#print(alcohol_levels)"
      ],
      "metadata": {
        "colab": {
          "base_uri": "https://localhost:8080/"
        },
        "id": "gUUF908BqK79",
        "outputId": "55c3fbc0-7992-49cd-bbcf-90584f5ec9d7"
      },
      "id": "gUUF908BqK79",
      "execution_count": 33,
      "outputs": [
        {
          "output_type": "execute_result",
          "data": {
            "text/plain": [
              "((178,), (178,))"
            ]
          },
          "metadata": {},
          "execution_count": 33
        }
      ]
    },
    {
      "cell_type": "markdown",
      "source": [
        "a) A partir de esas dos caracteristicas del vino, calcule el vector $\\vec{\\mu}$ y la matrix de covarianza $\\Sigma$, \n",
        "\n",
        "$$\n",
        "\\vec{\\mu} = \\begin{bmatrix}\n",
        "\\mu_x\\\\\n",
        "\\mu_y\n",
        "\\end{bmatrix}, \\quad \\Sigma = \\begin{bmatrix}\n",
        "\\text{Var}(x) & \\text{Cov}(x, y)\\\\\n",
        "\\text{Cov}(y, x) & \\text{Var}(y)\n",
        "\\end{bmatrix}\n",
        "$$"
      ],
      "metadata": {
        "id": "xEmsuQkxqr2u"
      },
      "id": "xEmsuQkxqr2u"
    },
    {
      "cell_type": "code",
      "source": [
        "covar = np.zeros((2, 2))\n",
        "mu = np.zeros(2)\n",
        "## Tu codigo aqui\n",
        "miu_X = np.mean(alcohol_levels)\n",
        "miu_Y = np.mean(alcalinity_levels)\n",
        "mu[0] = miu_X\n",
        "mu[1] = miu_Y\n",
        "covar = np.cov(alcohol_levels,alcalinity_levels)\n",
        "\n",
        "print(mu, covar)"
      ],
      "metadata": {
        "colab": {
          "base_uri": "https://localhost:8080/"
        },
        "id": "Sfi9pJ_sqlvR",
        "outputId": "f981772d-ef36-48c5-b7ed-da77d20c6b1c"
      },
      "id": "Sfi9pJ_sqlvR",
      "execution_count": 34,
      "outputs": [
        {
          "output_type": "stream",
          "name": "stdout",
          "text": [
            "[13.00061798 19.49494382] [[ 0.65906233 -0.8410929 ]\n",
            " [-0.8410929  11.15268616]]\n"
          ]
        }
      ]
    },
    {
      "cell_type": "markdown",
      "source": [
        "b) Gráfique los puntos del problema, con alcohol levels en x, y alcalinity levels en y"
      ],
      "metadata": {
        "id": "_ebwZzVdDfYH"
      },
      "id": "_ebwZzVdDfYH"
    },
    {
      "cell_type": "code",
      "source": [
        "# tu codigo aqui\n",
        "\n",
        "#plt.plot(alcohol_levels, alcalinity_levels)\n",
        "plt.scatter(alcohol_levels, alcalinity_levels)"
      ],
      "metadata": {
        "id": "QKZoQjPUDPcw",
        "colab": {
          "base_uri": "https://localhost:8080/",
          "height": 283
        },
        "outputId": "a13602dd-5efb-472f-c081-2c7bc76a6f57"
      },
      "id": "QKZoQjPUDPcw",
      "execution_count": 35,
      "outputs": [
        {
          "output_type": "execute_result",
          "data": {
            "text/plain": [
              "<matplotlib.collections.PathCollection at 0x7f4dbddf1350>"
            ]
          },
          "metadata": {},
          "execution_count": 35
        },
        {
          "output_type": "display_data",
          "data": {
            "text/plain": [
              "<Figure size 432x288 with 1 Axes>"
            ],
            "image/png": "[encoded data removed]"
          },
          "metadata": {
            "needs_background": "light"
          }
        }
      ]
    },
    {
      "cell_type": "markdown",
      "source": [
        "c) A partir del la matriz de covarianza se puede obtener una función de de densidad de probabilidad de los datos como una Gaussiana bivariada, cuya fórmula está dada por, \n",
        "\n",
        "$$\n",
        "  f(\\mathbf{x}) = \\frac{1}{\\sqrt{(2\\pi)^k\\text{det}(\\Sigma)}}\\exp\\Big(-\\frac{1}{2}(\\mathbf{x}- \\mathbf{\\mu})^T\\Sigma^{-1}(\\mathbf{x}-\\mathbf{\\mu})\\Big)\n",
        "$$\n",
        "\n",
        "Donde $\\mathbf{\\mu}$, es el promedio, $\\Sigma$ la matriz de covarianza, y $k$, el orden de la gausiana multivariada.\n",
        "\n",
        "Use la siguiente implementación para gráficar la función de densidad de probabilidad bivariada. [Bivariate](https://docs.scipy.org/doc/scipy/reference/generated/scipy.stats.multivariate_normal.html)\n",
        "\n",
        "Tenga en cuenta los límites\n",
        "\n"
      ],
      "metadata": {
        "id": "Kv-aqH5DBbu2"
      },
      "id": "Kv-aqH5DBbu2"
    },
    {
      "cell_type": "code",
      "source": [
        "# tu codigo aqui\n",
        "\"\"\"\n",
        "def funcion(x):\n",
        "    k  = 2\n",
        "    pf = 1/((((2*np.pi)**k)*(np.linalg.det(covar)))**(1/2))\n",
        "    f1 = np.transpose(x-mu)\n",
        "    f2 = np.linalg.inv(covar)\n",
        "    f3 = (x-mu)\n",
        "    f4 = -(1/2)\n",
        "    sf = np.exp(f1*f2*f3*f4)\n",
        "\n",
        "    R = pf *sf\n",
        "    return R\n",
        "vecx = np.array([alcohol_levels,alcalinity_levels])    \n",
        "fun = funcion(vecx)\n",
        "plt.plot(fun)\n",
        "\"\"\"\n",
        "x, y = np.mgrid[11:15:.01, 10:31:.01]\n",
        "pos = np.dstack((x, y))\n",
        "rv = multivariate_normal(mu, covar)\n",
        "\n",
        "fig2 = plt.figure()\n",
        "ax2 = fig2.add_subplot(111)\n",
        "ax2.contourf(x, y, rv.pdf(pos))\n"
      ],
      "metadata": {
        "id": "gTRb3QNbC9Zr",
        "colab": {
          "base_uri": "https://localhost:8080/",
          "height": 283
        },
        "outputId": "b56236a0-bbd3-4337-8ef3-0544ed5b43d3"
      },
      "id": "gTRb3QNbC9Zr",
      "execution_count": 36,
      "outputs": [
        {
          "output_type": "execute_result",
          "data": {
            "text/plain": [
              "<matplotlib.contour.QuadContourSet at 0x7f4dbdeaf650>"
            ]
          },
          "metadata": {},
          "execution_count": 36
        },
        {
          "output_type": "display_data",
          "data": {
            "text/plain": [
              "<Figure size 432x288 with 1 Axes>"
            ],
            "image/png": "[encoded data removed]"
          },
          "metadata": {
            "needs_background": "light"
          }
        }
      ]
    },
    {
      "cell_type": "markdown",
      "source": [
        "d) A partir de la función de densidad, La correlación de los datos es positiva, negativa o nula? Por qué?\n",
        "\n",
        "Tu texto aquí,\n",
        "\n",
        "Seria negativa por dos motivos fácilmente apreciables. Por la matriz de covarianza, la cual tiene en sus entradas (1,2) y (2,1) valores negativos. Es decir, son inversamente proporcionales x e y. Y por la pendiente negativa que apreciamos. \n",
        "\n",
        "\n",
        ".\n",
        "\n",
        ".\n",
        "\n",
        ".\n",
        "\n",
        ".\n",
        "\n",
        "."
      ],
      "metadata": {
        "id": "55B8tEoTFcvA"
      },
      "id": "55B8tEoTFcvA"
    },
    {
      "cell_type": "markdown",
      "source": [
        "## Problema 2 (continuación)\n",
        "\n",
        "e) Diagonalice la matriz de covarianza, es decir imprima los valores propios y vectores propios de la matriz de covarianza"
      ],
      "metadata": {
        "id": "rsePt_u1F6Hy"
      },
      "id": "rsePt_u1F6Hy"
    },
    {
      "cell_type": "code",
      "source": [
        "# Tu codigo aquí\n",
        "vp, mp =np.linalg.eig(covar)\n",
        "print(vp)\n",
        "mp"
      ],
      "metadata": {
        "id": "lLi_DepQF85k",
        "colab": {
          "base_uri": "https://localhost:8080/"
        },
        "outputId": "1a5b98f4-d043-4fc0-c057-2e2bd09e9bff"
      },
      "id": "lLi_DepQF85k",
      "execution_count": 40,
      "outputs": [
        {
          "output_type": "stream",
          "name": "stdout",
          "text": [
            "[ 0.59207404 11.21967444]\n"
          ]
        },
        {
          "output_type": "execute_result",
          "data": {
            "text/plain": [
              "array([[-0.9968434 ,  0.07939293],\n",
              "       [-0.07939293, -0.9968434 ]])"
            ]
          },
          "metadata": {},
          "execution_count": 40
        }
      ]
    },
    {
      "cell_type": "markdown",
      "source": [
        "f) A partir de los vectores propios y valores propios de la matriz, y el vector $\\vec{\\mu}$.\n",
        "\n",
        "*   Desplace los datos de forma que el promedio de los datos en juntas coordenadas sea cero.\n",
        "*   Rote los datos de forma que la covarianza de los datos sea cero.\n",
        "\n",
        "Una rotación de puntos en dos dimensiones se puede ver como una matriz de la forma,\n",
        "\n",
        "$$\n",
        "\\text{Rot}(\\theta) = \\begin{bmatrix}\n",
        "\\cos{\\theta} & -\\sin{\\theta}\\\\\n",
        "\\sin{\\theta} & \\cos{\\theta}\n",
        "\\end{bmatrix}\n",
        "$$"
      ],
      "metadata": {
        "id": "hJwBlwa8GKc9"
      },
      "id": "hJwBlwa8GKc9"
    },
    {
      "cell_type": "code",
      "source": [
        "# tu codigo aqui\n",
        "M = np.array([alcohol_levels,alcalinity_levels])\n",
        "MVM = np.array([[mu[0]],[mu[1]]])\n",
        "MC = M - MVM\n",
        "\n",
        "inv_p = np.linalg.inv(mp)\n",
        "MCR = inv_p@MC\n",
        "D = inv_p @ covar @ mp\n",
        "\n",
        "\n",
        "print(D.shape)"
      ],
      "metadata": {
        "id": "trj-inLgGI7t",
        "colab": {
          "base_uri": "https://localhost:8080/"
        },
        "outputId": "26101d7f-60ab-4222-cff0-acbd68ce6705"
      },
      "id": "trj-inLgGI7t",
      "execution_count": 38,
      "outputs": [
        {
          "output_type": "stream",
          "name": "stdout",
          "text": [
            "(2, 2)\n"
          ]
        }
      ]
    },
    {
      "cell_type": "markdown",
      "source": [
        "g) Gráfique la función de densidad de probabilidad de datos rotados  a partir de la diagonzalización de la matrix de covarianza original (parte f). "
      ],
      "metadata": {
        "id": "UxrBPRo5G8oo"
      },
      "id": "UxrBPRo5G8oo"
    },
    {
      "cell_type": "code",
      "source": [
        "# tu codigo aqui\n",
        "\n",
        "x, y = np.mgrid[-3:3:.01, -10:10:.01]\n",
        "pos = np.dstack((x, y))\n",
        "rv = multivariate_normal([0,0], D)\n",
        "\n",
        "fig2 = plt.figure()\n",
        "ax2 = fig2.add_subplot(111)\n",
        "ax2.contourf(x, y, rv.pdf(pos))"
      ],
      "metadata": {
        "id": "39S_4IiBHND5",
        "colab": {
          "base_uri": "https://localhost:8080/",
          "height": 283
        },
        "outputId": "929bd619-a0c2-432f-b6ea-3d04c65f21d3"
      },
      "id": "39S_4IiBHND5",
      "execution_count": 41,
      "outputs": [
        {
          "output_type": "execute_result",
          "data": {
            "text/plain": [
              "<matplotlib.contour.QuadContourSet at 0x7f4dbdd1af10>"
            ]
          },
          "metadata": {},
          "execution_count": 41
        },
        {
          "output_type": "display_data",
          "data": {
            "text/plain": [
              "<Figure size 432x288 with 1 Axes>"
            ],
            "image/png": "[encoded data removed]"
          },
          "metadata": {
            "needs_background": "light"
          }
        }
      ]
    },
    {
      "cell_type": "markdown",
      "source": [
        "h) Las coordenadas de los nuevos datos se llaman Componentes principales, lo que hicimos fue basicamente el método PCA. Argumente cómo se puede usar PCA para reducir la dimensionalidad de los datos.\n",
        "\n",
        "\n",
        "Tu texto aquí,\n",
        "\n",
        "El método nos da la posibilidad de conocer la varianza de los datos. Con esto en mente podemos crear un criterio de selección en el que ignoremos los datos que decidamos son menos perjudiciales ignorar. Estos datos son los de mayor varianza. Conociendo esto último, podemos ignorar en el caso de lo hecho los del eje coordenado con mayor varianza. En el presente caso ignorar el eje x. \n",
        "\n",
        ".\n",
        "\n",
        ".\n",
        "\n",
        ".\n",
        "\n",
        "."
      ],
      "metadata": {
        "id": "2CNO1zYpHw_h"
      },
      "id": "2CNO1zYpHw_h"
    }
  ],
  "metadata": {
    "kernelspec": {
      "display_name": "Python 3 (ipykernel)",
      "language": "python",
      "name": "python3"
    },
    "language_info": {
      "codemirror_mode": {
        "name": "ipython",
        "version": 3
      },
      "file_extension": ".py",
      "mimetype": "text/x-python",
      "name": "python",
      "nbconvert_exporter": "python",
      "pygments_lexer": "ipython3",
      "version": "3.7.12"
    },
    "colab": {
      "provenance": []
    }
  },
  "nbformat": 4,
  "nbformat_minor": 5
}