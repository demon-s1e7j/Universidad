{
 "cells": [
  {
   "cell_type": "markdown",
   "id": "Ca47pvrzRXMy",
   "metadata": {
    "id": "Ca47pvrzRXMy"
   },
   "source": [
    "## Librerias"
   ]
  },
  {
   "cell_type": "code",
   "execution_count": 2,
   "id": "6f64d18c-e6fe-4328-a15d-9344842eabd1",
   "metadata": {
    "id": "6f64d18c-e6fe-4328-a15d-9344842eabd1"
   },
   "outputs": [],
   "source": [
    "import numpy as np\n",
    "import matplotlib.pyplot as plt\n",
    "from scipy.stats import norm, multivariate_normal"
   ]
  },
  {
   "cell_type": "markdown",
   "id": "RQcF9p3vavGU",
   "metadata": {
    "id": "RQcF9p3vavGU"
   },
   "source": [
    "## Problema 1\n",
    "\n",
    "Considere las dos caracteristicas \"Alcohol level\" y \"Alcalinity level\" del conjunto de datos [wine_data](https://scikit-learn.org/stable/modules/generated/sklearn.datasets.load_wine.html). "
   ]
  },
  {
   "cell_type": "code",
   "execution_count": null,
   "id": "gUUF908BqK79",
   "metadata": {
    "colab": {
     "base_uri": "https://localhost:8080/",
     "height": 37
    },
    "id": "gUUF908BqK79",
    "outputId": "3b73f47a-cf4e-40cf-8de0-4aff1bab0d0c"
   },
   "outputs": [
    {
     "data": {
      "image/png": "[encoded data removed]",
      "text/latex": [
       "$\\displaystyle \\left( \\left( 178,\\right), \\  \\left( 178,\\right)\\right)$"
      ],
      "text/plain": [
       "((178,), (178,))"
      ]
     },
     "execution_count": 5,
     "metadata": {},
     "output_type": "execute_result"
    }
   ],
   "source": [
    "# load data\n",
    "from sklearn.datasets import load_wine\n",
    "import scipy.stats\n",
    "\n",
    "alcohol_levels = load_wine()['data'][:, [0]].ravel()\n",
    "alcalinity_levels = load_wine()['data'][:, [3]].ravel()\n",
    "\n",
    "alcohol_levels.shape, alcalinity_levels.shape"
   ]
  },
  {
   "cell_type": "markdown",
   "id": "xEmsuQkxqr2u",
   "metadata": {
    "id": "xEmsuQkxqr2u"
   },
   "source": [
    "a) A partir de esas dos caracteristicas del vino, calcule el vector $\\vec{\\mu}$ y la matrix de covarianza $\\Sigma$, \n",
    "\n",
    "$$\n",
    "\\vec{\\mu} = \\begin{bmatrix}\n",
    "\\mu_x\\\\\n",
    "\\mu_y\n",
    "\\end{bmatrix}, \\quad \\Sigma = \\begin{bmatrix}\n",
    "\\text{Var}(x) & \\text{Cov}(x, y)\\\\\n",
    "\\text{Cov}(y, x) & \\text{Var}(y)\n",
    "\\end{bmatrix}\n",
    "$$"
   ]
  },
  {
   "cell_type": "code",
   "execution_count": 3,
   "id": "Sfi9pJ_sqlvR",
   "metadata": {
    "colab": {
     "base_uri": "https://localhost:8080/"
    },
    "id": "Sfi9pJ_sqlvR",
    "outputId": "c789f497-b930-4ebc-9456-271849812944"
   },
   "outputs": [
    {
     "name": "stdout",
     "output_type": "stream",
     "text": [
      "[0. 0.] [[0. 0.]\n",
      " [0. 0.]]\n"
     ]
    }
   ],
   "source": [
    "covar = np.zeros((2, 2))\n",
    "mu = np.zeros(2)\n",
    "## Tu codigo aqui\n",
    "\n",
    "\n",
    "print(mu, covar)"
   ]
  },
  {
   "cell_type": "markdown",
   "id": "_ebwZzVdDfYH",
   "metadata": {
    "id": "_ebwZzVdDfYH"
   },
   "source": [
    "b) Gráfique los puntos del problema, con alcohol levels en x, y alcalinity levels en y"
   ]
  },
  {
   "cell_type": "code",
   "execution_count": null,
   "id": "QKZoQjPUDPcw",
   "metadata": {
    "id": "QKZoQjPUDPcw"
   },
   "outputs": [],
   "source": [
    "# tu codigo aqui\n"
   ]
  },
  {
   "cell_type": "markdown",
   "id": "Kv-aqH5DBbu2",
   "metadata": {
    "id": "Kv-aqH5DBbu2"
   },
   "source": [
    "c) A partir del la matriz de covarianza se puede obtener una función de de densidad de probabilidad de los datos como una Gaussiana bivariada, cuya fórmula está dada por, \n",
    "\n",
    "$$\n",
    "  f(\\mathbf{x}) = \\frac{1}{\\sqrt{(2\\pi)^k\\text{det}(\\Sigma)}}\\exp\\Big(-\\frac{1}{2}(\\mathbf{x}- \\mathbf{\\mu})^T\\Sigma^{-1}(\\mathbf{x}-\\mathbf{\\mu})\\Big)\n",
    "$$\n",
    "\n",
    "Donde $\\mathbf{\\mu}$, es el promedio, $\\Sigma$ la matriz de covarianza, y $k$, el orden de la gausiana multivariada.\n",
    "\n",
    "Use la siguiente implementación para gráficar la función de densidad de probabilidad bivariada. [Bivariate](https://docs.scipy.org/doc/scipy/reference/generated/scipy.stats.multivariate_normal.html)\n",
    "\n",
    "Tenga en cuenta los límites\n",
    "\n"
   ]
  },
  {
   "cell_type": "code",
   "execution_count": null,
   "id": "gTRb3QNbC9Zr",
   "metadata": {
    "id": "gTRb3QNbC9Zr"
   },
   "outputs": [],
   "source": [
    "# tu codigo aqui\n"
   ]
  },
  {
   "cell_type": "markdown",
   "id": "55B8tEoTFcvA",
   "metadata": {
    "id": "55B8tEoTFcvA"
   },
   "source": [
    "d) A partir de la función de densidad, La correlación de los datos es positiva, negativa o nula? Por qué?\n",
    "\n",
    "Tu texto aquí,\n",
    "\n",
    ".\n",
    "\n",
    ".\n",
    "\n",
    ".\n",
    "\n",
    ".\n",
    "\n",
    "."
   ]
  },
  {
   "cell_type": "markdown",
   "id": "rsePt_u1F6Hy",
   "metadata": {
    "id": "rsePt_u1F6Hy"
   },
   "source": [
    "## Problema 2 (continuación)\n",
    "\n",
    "e) Diagonalice la matriz de covarianza, es decir imprima los valores propios y vectores propios de la matriz de covarianza"
   ]
  },
  {
   "cell_type": "code",
   "execution_count": null,
   "id": "lLi_DepQF85k",
   "metadata": {
    "id": "lLi_DepQF85k"
   },
   "outputs": [],
   "source": [
    "# Tu codigo aquí\n"
   ]
  },
  {
   "cell_type": "markdown",
   "id": "hJwBlwa8GKc9",
   "metadata": {
    "id": "hJwBlwa8GKc9"
   },
   "source": [
    "f) A partir de los vectores propios y valores propios de la matriz, y el vector $\\vec{\\mu}$.\n",
    "\n",
    "*   Desplace los datos de forma que el promedio de los datos en juntas coordenadas sea cero.\n",
    "*   Rote los datos de forma que la covarianza de los datos sea cero.\n",
    "\n",
    "Una rotación de puntos en dos dimensiones se puede ver como una matriz de la forma,\n",
    "\n",
    "$$\n",
    "\\text{Rot}(\\theta) = \\begin{bmatrix}\n",
    "\\cos{\\theta} & -\\sin{\\theta}\\\\\n",
    "\\sin{\\theta} & \\cos{\\theta}\n",
    "\\end{bmatrix}\n",
    "$$"
   ]
  },
  {
   "cell_type": "code",
   "execution_count": null,
   "id": "trj-inLgGI7t",
   "metadata": {
    "id": "trj-inLgGI7t"
   },
   "outputs": [],
   "source": [
    "# tu codigo aqui\n"
   ]
  },
  {
   "cell_type": "markdown",
   "id": "UxrBPRo5G8oo",
   "metadata": {
    "id": "UxrBPRo5G8oo"
   },
   "source": [
    "g) Gráfique la función de densidad de probabilidad de datos rotados  a partir de la diagonzalización de la matrix de covarianza original (parte f). "
   ]
  },
  {
   "cell_type": "code",
   "execution_count": null,
   "id": "39S_4IiBHND5",
   "metadata": {
    "id": "39S_4IiBHND5"
   },
   "outputs": [],
   "source": [
    "# tu codigo aqui\n"
   ]
  },
  {
   "cell_type": "markdown",
   "id": "2CNO1zYpHw_h",
   "metadata": {
    "id": "2CNO1zYpHw_h"
   },
   "source": [
    "h) Las coordenadas de los nuevos datos se llaman Componentes principales, lo que hicimos fue basicamente el método PCA. Argumente cómo se puede usar PCA para reducir la dimensionalidad de los datos.\n",
    "\n",
    "\n",
    "Tu texto aquí,\n",
    "\n",
    ".\n",
    "\n",
    ".\n",
    "\n",
    ".\n",
    "\n",
    ".\n",
    "\n",
    "."
   ]
  }
 ],
 "metadata": {
  "colab": {
   "collapsed_sections": [],
   "provenance": []
  },
  "kernelspec": {
   "display_name": "Python 3 (ipykernel)",
   "language": "python",
   "name": "python3"
  },
  "language_info": {
   "codemirror_mode": {
    "name": "ipython",
    "version": 3
   },
   "file_extension": ".py",
   "mimetype": "text/x-python",
   "name": "python",
   "nbconvert_exporter": "python",
   "pygments_lexer": "ipython3",
   "version": "3.11.0"
  }
 },
 "nbformat": 4,
 "nbformat_minor": 5
}
